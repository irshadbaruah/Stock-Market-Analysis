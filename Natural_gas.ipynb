{
  "nbformat": 4,
  "nbformat_minor": 0,
  "metadata": {
    "colab": {
      "name": "Natural_gas.ipynb",
      "provenance": [],
      "collapsed_sections": []
    },
    "kernelspec": {
      "name": "python3",
      "display_name": "Python 3"
    },
    "language_info": {
      "name": "python"
    }
  },
  "cells": [
    {
      "cell_type": "code",
      "execution_count": null,
      "metadata": {
        "id": "XL8n9IxOW3AU"
      },
      "outputs": [],
      "source": [
        "#Import the libraries\n",
        "import numpy as np\n",
        "import pandas as pd\n",
        "import matplotlib.pyplot as plt\n",
        "from sklearn.model_selection import train_test_split\n",
        "from xgboost import XGBRegressor\n",
        "from xgboost import plot_importance\n",
        "from sklearn import metrics"
      ]
    },
    {
      "cell_type": "code",
      "source": [
        "#Load the dataset\n",
        "df=pd.read_csv(\"Natural Gas Futures Historical Data.csv\",header=0)\n",
        "df"
      ],
      "metadata": {
        "colab": {
          "base_uri": "https://localhost:8080/",
          "height": 424
        },
        "id": "TNBY2NgqXGj5",
        "outputId": "a02f946c-88ad-4c5e-fe06-90f19d61c740"
      },
      "execution_count": null,
      "outputs": [
        {
          "output_type": "execute_result",
          "data": {
            "text/plain": [
              "              Date  Price   Open   High    Low     Vol. Change %\n",
              "0     Jan 10, 2020  2.202  2.166  2.234  2.137  282.65K    1.66%\n",
              "1     Jan 09, 2020  2.166  2.151  2.170  2.105  230.03K    1.17%\n",
              "2     Jan 08, 2020  2.141  2.153  2.185  2.115  242.56K   -0.97%\n",
              "3     Jan 07, 2020  2.162  2.149  2.178  2.102  163.01K    1.26%\n",
              "4     Jan 06, 2020  2.135  2.112  2.173  2.099  154.68K    0.23%\n",
              "...            ...    ...    ...    ...    ...      ...      ...\n",
              "4995  Jun 05, 2000  4.398  4.080  4.410  4.050   30.98K    8.78%\n",
              "4996  Jun 02, 2000  4.043  4.070  4.160  3.930   40.20K   -0.52%\n",
              "4997  Jun 01, 2000  4.064  4.349  4.370  3.800   72.33K   -6.70%\n",
              "4998  May 31, 2000  4.356  4.379  4.555  4.345   50.31K    0.05%\n",
              "4999  May 30, 2000  4.354  4.320  4.360  4.230   32.80K   -1.18%\n",
              "\n",
              "[5000 rows x 7 columns]"
            ],
            "text/html": [
              "\n",
              "  <div id=\"df-8c58d6b5-596f-481e-8592-680ec11a8f35\">\n",
              "    <div class=\"colab-df-container\">\n",
              "      <div>\n",
              "<style scoped>\n",
              "    .dataframe tbody tr th:only-of-type {\n",
              "        vertical-align: middle;\n",
              "    }\n",
              "\n",
              "    .dataframe tbody tr th {\n",
              "        vertical-align: top;\n",
              "    }\n",
              "\n",
              "    .dataframe thead th {\n",
              "        text-align: right;\n",
              "    }\n",
              "</style>\n",
              "<table border=\"1\" class=\"dataframe\">\n",
              "  <thead>\n",
              "    <tr style=\"text-align: right;\">\n",
              "      <th></th>\n",
              "      <th>Date</th>\n",
              "      <th>Price</th>\n",
              "      <th>Open</th>\n",
              "      <th>High</th>\n",
              "      <th>Low</th>\n",
              "      <th>Vol.</th>\n",
              "      <th>Change %</th>\n",
              "    </tr>\n",
              "  </thead>\n",
              "  <tbody>\n",
              "    <tr>\n",
              "      <th>0</th>\n",
              "      <td>Jan 10, 2020</td>\n",
              "      <td>2.202</td>\n",
              "      <td>2.166</td>\n",
              "      <td>2.234</td>\n",
              "      <td>2.137</td>\n",
              "      <td>282.65K</td>\n",
              "      <td>1.66%</td>\n",
              "    </tr>\n",
              "    <tr>\n",
              "      <th>1</th>\n",
              "      <td>Jan 09, 2020</td>\n",
              "      <td>2.166</td>\n",
              "      <td>2.151</td>\n",
              "      <td>2.170</td>\n",
              "      <td>2.105</td>\n",
              "      <td>230.03K</td>\n",
              "      <td>1.17%</td>\n",
              "    </tr>\n",
              "    <tr>\n",
              "      <th>2</th>\n",
              "      <td>Jan 08, 2020</td>\n",
              "      <td>2.141</td>\n",
              "      <td>2.153</td>\n",
              "      <td>2.185</td>\n",
              "      <td>2.115</td>\n",
              "      <td>242.56K</td>\n",
              "      <td>-0.97%</td>\n",
              "    </tr>\n",
              "    <tr>\n",
              "      <th>3</th>\n",
              "      <td>Jan 07, 2020</td>\n",
              "      <td>2.162</td>\n",
              "      <td>2.149</td>\n",
              "      <td>2.178</td>\n",
              "      <td>2.102</td>\n",
              "      <td>163.01K</td>\n",
              "      <td>1.26%</td>\n",
              "    </tr>\n",
              "    <tr>\n",
              "      <th>4</th>\n",
              "      <td>Jan 06, 2020</td>\n",
              "      <td>2.135</td>\n",
              "      <td>2.112</td>\n",
              "      <td>2.173</td>\n",
              "      <td>2.099</td>\n",
              "      <td>154.68K</td>\n",
              "      <td>0.23%</td>\n",
              "    </tr>\n",
              "    <tr>\n",
              "      <th>...</th>\n",
              "      <td>...</td>\n",
              "      <td>...</td>\n",
              "      <td>...</td>\n",
              "      <td>...</td>\n",
              "      <td>...</td>\n",
              "      <td>...</td>\n",
              "      <td>...</td>\n",
              "    </tr>\n",
              "    <tr>\n",
              "      <th>4995</th>\n",
              "      <td>Jun 05, 2000</td>\n",
              "      <td>4.398</td>\n",
              "      <td>4.080</td>\n",
              "      <td>4.410</td>\n",
              "      <td>4.050</td>\n",
              "      <td>30.98K</td>\n",
              "      <td>8.78%</td>\n",
              "    </tr>\n",
              "    <tr>\n",
              "      <th>4996</th>\n",
              "      <td>Jun 02, 2000</td>\n",
              "      <td>4.043</td>\n",
              "      <td>4.070</td>\n",
              "      <td>4.160</td>\n",
              "      <td>3.930</td>\n",
              "      <td>40.20K</td>\n",
              "      <td>-0.52%</td>\n",
              "    </tr>\n",
              "    <tr>\n",
              "      <th>4997</th>\n",
              "      <td>Jun 01, 2000</td>\n",
              "      <td>4.064</td>\n",
              "      <td>4.349</td>\n",
              "      <td>4.370</td>\n",
              "      <td>3.800</td>\n",
              "      <td>72.33K</td>\n",
              "      <td>-6.70%</td>\n",
              "    </tr>\n",
              "    <tr>\n",
              "      <th>4998</th>\n",
              "      <td>May 31, 2000</td>\n",
              "      <td>4.356</td>\n",
              "      <td>4.379</td>\n",
              "      <td>4.555</td>\n",
              "      <td>4.345</td>\n",
              "      <td>50.31K</td>\n",
              "      <td>0.05%</td>\n",
              "    </tr>\n",
              "    <tr>\n",
              "      <th>4999</th>\n",
              "      <td>May 30, 2000</td>\n",
              "      <td>4.354</td>\n",
              "      <td>4.320</td>\n",
              "      <td>4.360</td>\n",
              "      <td>4.230</td>\n",
              "      <td>32.80K</td>\n",
              "      <td>-1.18%</td>\n",
              "    </tr>\n",
              "  </tbody>\n",
              "</table>\n",
              "<p>5000 rows × 7 columns</p>\n",
              "</div>\n",
              "      <button class=\"colab-df-convert\" onclick=\"convertToInteractive('df-8c58d6b5-596f-481e-8592-680ec11a8f35')\"\n",
              "              title=\"Convert this dataframe to an interactive table.\"\n",
              "              style=\"display:none;\">\n",
              "        \n",
              "  <svg xmlns=\"http://www.w3.org/2000/svg\" height=\"24px\"viewBox=\"0 0 24 24\"\n",
              "       width=\"24px\">\n",
              "    <path d=\"M0 0h24v24H0V0z\" fill=\"none\"/>\n",
              "    <path d=\"M18.56 5.44l.94 2.06.94-2.06 2.06-.94-2.06-.94-.94-2.06-.94 2.06-2.06.94zm-11 1L8.5 8.5l.94-2.06 2.06-.94-2.06-.94L8.5 2.5l-.94 2.06-2.06.94zm10 10l.94 2.06.94-2.06 2.06-.94-2.06-.94-.94-2.06-.94 2.06-2.06.94z\"/><path d=\"M17.41 7.96l-1.37-1.37c-.4-.4-.92-.59-1.43-.59-.52 0-1.04.2-1.43.59L10.3 9.45l-7.72 7.72c-.78.78-.78 2.05 0 2.83L4 21.41c.39.39.9.59 1.41.59.51 0 1.02-.2 1.41-.59l7.78-7.78 2.81-2.81c.8-.78.8-2.07 0-2.86zM5.41 20L4 18.59l7.72-7.72 1.47 1.35L5.41 20z\"/>\n",
              "  </svg>\n",
              "      </button>\n",
              "      \n",
              "  <style>\n",
              "    .colab-df-container {\n",
              "      display:flex;\n",
              "      flex-wrap:wrap;\n",
              "      gap: 12px;\n",
              "    }\n",
              "\n",
              "    .colab-df-convert {\n",
              "      background-color: #E8F0FE;\n",
              "      border: none;\n",
              "      border-radius: 50%;\n",
              "      cursor: pointer;\n",
              "      display: none;\n",
              "      fill: #1967D2;\n",
              "      height: 32px;\n",
              "      padding: 0 0 0 0;\n",
              "      width: 32px;\n",
              "    }\n",
              "\n",
              "    .colab-df-convert:hover {\n",
              "      background-color: #E2EBFA;\n",
              "      box-shadow: 0px 1px 2px rgba(60, 64, 67, 0.3), 0px 1px 3px 1px rgba(60, 64, 67, 0.15);\n",
              "      fill: #174EA6;\n",
              "    }\n",
              "\n",
              "    [theme=dark] .colab-df-convert {\n",
              "      background-color: #3B4455;\n",
              "      fill: #D2E3FC;\n",
              "    }\n",
              "\n",
              "    [theme=dark] .colab-df-convert:hover {\n",
              "      background-color: #434B5C;\n",
              "      box-shadow: 0px 1px 3px 1px rgba(0, 0, 0, 0.15);\n",
              "      filter: drop-shadow(0px 1px 2px rgba(0, 0, 0, 0.3));\n",
              "      fill: #FFFFFF;\n",
              "    }\n",
              "  </style>\n",
              "\n",
              "      <script>\n",
              "        const buttonEl =\n",
              "          document.querySelector('#df-8c58d6b5-596f-481e-8592-680ec11a8f35 button.colab-df-convert');\n",
              "        buttonEl.style.display =\n",
              "          google.colab.kernel.accessAllowed ? 'block' : 'none';\n",
              "\n",
              "        async function convertToInteractive(key) {\n",
              "          const element = document.querySelector('#df-8c58d6b5-596f-481e-8592-680ec11a8f35');\n",
              "          const dataTable =\n",
              "            await google.colab.kernel.invokeFunction('convertToInteractive',\n",
              "                                                     [key], {});\n",
              "          if (!dataTable) return;\n",
              "\n",
              "          const docLinkHtml = 'Like what you see? Visit the ' +\n",
              "            '<a target=\"_blank\" href=https://colab.research.google.com/notebooks/data_table.ipynb>data table notebook</a>'\n",
              "            + ' to learn more about interactive tables.';\n",
              "          element.innerHTML = '';\n",
              "          dataTable['output_type'] = 'display_data';\n",
              "          await google.colab.output.renderOutput(dataTable, element);\n",
              "          const docLink = document.createElement('div');\n",
              "          docLink.innerHTML = docLinkHtml;\n",
              "          element.appendChild(docLink);\n",
              "        }\n",
              "      </script>\n",
              "    </div>\n",
              "  </div>\n",
              "  "
            ]
          },
          "metadata": {},
          "execution_count": 18
        }
      ]
    },
    {
      "cell_type": "code",
      "source": [
        "#Number of rows and columns in the dataset\n",
        "df.shape"
      ],
      "metadata": {
        "colab": {
          "base_uri": "https://localhost:8080/"
        },
        "id": "HjmuV39LXWHC",
        "outputId": "6b938675-630a-40c5-afc9-cd7851b9df08"
      },
      "execution_count": null,
      "outputs": [
        {
          "output_type": "execute_result",
          "data": {
            "text/plain": [
              "(5000, 7)"
            ]
          },
          "metadata": {},
          "execution_count": 19
        }
      ]
    },
    {
      "cell_type": "code",
      "source": [
        "#Information about dataset\n",
        "df.info()"
      ],
      "metadata": {
        "colab": {
          "base_uri": "https://localhost:8080/"
        },
        "id": "LCbdDnM1XbS8",
        "outputId": "0b5f6ec1-8e93-46dd-9b42-b2c65ad147f7"
      },
      "execution_count": null,
      "outputs": [
        {
          "output_type": "stream",
          "name": "stdout",
          "text": [
            "<class 'pandas.core.frame.DataFrame'>\n",
            "RangeIndex: 5000 entries, 0 to 4999\n",
            "Data columns (total 7 columns):\n",
            " #   Column    Non-Null Count  Dtype  \n",
            "---  ------    --------------  -----  \n",
            " 0   Date      5000 non-null   object \n",
            " 1   Price     5000 non-null   float64\n",
            " 2   Open      5000 non-null   float64\n",
            " 3   High      5000 non-null   float64\n",
            " 4   Low       5000 non-null   float64\n",
            " 5   Vol.      5000 non-null   object \n",
            " 6   Change %  5000 non-null   object \n",
            "dtypes: float64(4), object(3)\n",
            "memory usage: 273.6+ KB\n"
          ]
        }
      ]
    },
    {
      "cell_type": "code",
      "source": [
        "#Converting string datatype into datetime datatype\n",
        "df['Date']=pd.to_datetime(df['Date'])"
      ],
      "metadata": {
        "id": "LuljZBljXbVk"
      },
      "execution_count": null,
      "outputs": []
    },
    {
      "cell_type": "code",
      "source": [
        "#Removing 'K' from Vol.\n",
        "df['Vol.']=df['Vol.'].str[:-1]\n",
        "\n",
        "#Replacing '' values with '0'\n",
        "df['Vol.'] = df['Vol.'].replace([''],'0')\n",
        "\n",
        "#Converting string datatype into float datatype\n",
        "df['Vol.']=df['Vol.'].astype('float')"
      ],
      "metadata": {
        "id": "855KQquuXbYQ"
      },
      "execution_count": null,
      "outputs": []
    },
    {
      "cell_type": "code",
      "source": [
        "#Removing '%' from Change %\n",
        "df['Change %']=df['Change %'].str[:-1]\n",
        "\n",
        "#Converting string datatype into float datatype\n",
        "df['Change %']=df['Change %'].astype('float')"
      ],
      "metadata": {
        "id": "m2IreufhXbas"
      },
      "execution_count": null,
      "outputs": []
    },
    {
      "cell_type": "code",
      "source": [
        "#Information about dataset\n",
        "df.info()"
      ],
      "metadata": {
        "colab": {
          "base_uri": "https://localhost:8080/"
        },
        "id": "hqHm_5rjXbcw",
        "outputId": "bfd0d2fb-782c-456d-deb7-551ed4eeada1"
      },
      "execution_count": null,
      "outputs": [
        {
          "output_type": "stream",
          "name": "stdout",
          "text": [
            "<class 'pandas.core.frame.DataFrame'>\n",
            "RangeIndex: 5000 entries, 0 to 4999\n",
            "Data columns (total 7 columns):\n",
            " #   Column    Non-Null Count  Dtype         \n",
            "---  ------    --------------  -----         \n",
            " 0   Date      5000 non-null   datetime64[ns]\n",
            " 1   Price     5000 non-null   float64       \n",
            " 2   Open      5000 non-null   float64       \n",
            " 3   High      5000 non-null   float64       \n",
            " 4   Low       5000 non-null   float64       \n",
            " 5   Vol.      5000 non-null   float64       \n",
            " 6   Change %  5000 non-null   float64       \n",
            "dtypes: datetime64[ns](1), float64(6)\n",
            "memory usage: 273.6 KB\n"
          ]
        }
      ]
    },
    {
      "cell_type": "code",
      "source": [
        "#Check for missing/null values\n",
        "df.isnull().sum()"
      ],
      "metadata": {
        "colab": {
          "base_uri": "https://localhost:8080/"
        },
        "id": "voNEuRseXsFz",
        "outputId": "c39b0ea9-fde5-49dd-a8ea-6cdd07c2b8cb"
      },
      "execution_count": null,
      "outputs": [
        {
          "output_type": "execute_result",
          "data": {
            "text/plain": [
              "Date        0\n",
              "Price       0\n",
              "Open        0\n",
              "High        0\n",
              "Low         0\n",
              "Vol.        0\n",
              "Change %    0\n",
              "dtype: int64"
            ]
          },
          "metadata": {},
          "execution_count": 25
        }
      ]
    },
    {
      "cell_type": "code",
      "source": [
        "plt.figure(figsize=(16,8))\n",
        "plt.title('Price of Crude Oil across Timeline')\n",
        "plt.plot(df.Date,df.Price)\n",
        "plt.xlabel('Date')\n",
        "plt.ylabel('Price')\n",
        "plt.show()"
      ],
      "metadata": {
        "colab": {
          "base_uri": "https://localhost:8080/",
          "height": 513
        },
        "id": "xWxC8jv-XsPt",
        "outputId": "c3a8a164-ea84-4cb3-c953-fd9dc8941582"
      },
      "execution_count": null,
      "outputs": [
        {
          "output_type": "display_data",
          "data": {
            "text/plain": [
              "<Figure size 1152x576 with 1 Axes>"
            ],
            "image/png": "[encoded data removed]"
          },
          "metadata": {
            "needs_background": "light"
          }
        }
      ]
    },
    {
      "cell_type": "code",
      "source": [
        "plt.figure(figsize=(16,8))\n",
        "plt.title('Percentage of Change across Timeline')\n",
        "plt.plot(df['Date'],df['Change %'])\n",
        "plt.xlabel('Date')\n",
        "plt.ylabel('Change %')\n",
        "plt.show()"
      ],
      "metadata": {
        "colab": {
          "base_uri": "https://localhost:8080/",
          "height": 512
        },
        "id": "DPADw13qX2xA",
        "outputId": "cac6752b-e8e7-441c-a67b-888bb4159833"
      },
      "execution_count": null,
      "outputs": [
        {
          "output_type": "display_data",
          "data": {
            "text/plain": [
              "<Figure size 1152x576 with 1 Axes>"
            ],
            "image/png": "[encoded data removed]"
          },
          "metadata": {
            "needs_background": "light"
          }
        }
      ]
    },
    {
      "cell_type": "code",
      "source": [
        "#Setting Date to be the index of dataframe\n",
        "df=df.set_index(['Date'])"
      ],
      "metadata": {
        "id": "ptI5xQIDX2z3"
      },
      "execution_count": null,
      "outputs": []
    },
    {
      "cell_type": "code",
      "source": [
        "d=df.drop(['Open','High','Low','Vol.','Change %'],axis=1)\n",
        "testdata=d.iloc[:30,:]\n",
        "traindata=d.iloc[30:,:]"
      ],
      "metadata": {
        "id": "2eeKErhtX28g"
      },
      "execution_count": null,
      "outputs": []
    },
    {
      "cell_type": "code",
      "source": [
        "traindata"
      ],
      "metadata": {
        "colab": {
          "base_uri": "https://localhost:8080/",
          "height": 455
        },
        "id": "iXQWY06CX2_E",
        "outputId": "667b8c2d-ae4e-4bd4-fe5b-d53c67920d72"
      },
      "execution_count": null,
      "outputs": [
        {
          "output_type": "execute_result",
          "data": {
            "text/plain": [
              "            Price\n",
              "Date             \n",
              "2019-11-29  2.281\n",
              "2019-11-28  2.463\n",
              "2019-11-27  2.501\n",
              "2019-11-26  2.470\n",
              "2019-11-25  2.531\n",
              "...           ...\n",
              "2000-06-05  4.398\n",
              "2000-06-02  4.043\n",
              "2000-06-01  4.064\n",
              "2000-05-31  4.356\n",
              "2000-05-30  4.354\n",
              "\n",
              "[4970 rows x 1 columns]"
            ],
            "text/html": [
              "\n",
              "  <div id=\"df-3bf5e123-1b20-4e34-9bed-1399986c19ba\">\n",
              "    <div class=\"colab-df-container\">\n",
              "      <div>\n",
              "<style scoped>\n",
              "    .dataframe tbody tr th:only-of-type {\n",
              "        vertical-align: middle;\n",
              "    }\n",
              "\n",
              "    .dataframe tbody tr th {\n",
              "        vertical-align: top;\n",
              "    }\n",
              "\n",
              "    .dataframe thead th {\n",
              "        text-align: right;\n",
              "    }\n",
              "</style>\n",
              "<table border=\"1\" class=\"dataframe\">\n",
              "  <thead>\n",
              "    <tr style=\"text-align: right;\">\n",
              "      <th></th>\n",
              "      <th>Price</th>\n",
              "    </tr>\n",
              "    <tr>\n",
              "      <th>Date</th>\n",
              "      <th></th>\n",
              "    </tr>\n",
              "  </thead>\n",
              "  <tbody>\n",
              "    <tr>\n",
              "      <th>2019-11-29</th>\n",
              "      <td>2.281</td>\n",
              "    </tr>\n",
              "    <tr>\n",
              "      <th>2019-11-28</th>\n",
              "      <td>2.463</td>\n",
              "    </tr>\n",
              "    <tr>\n",
              "      <th>2019-11-27</th>\n",
              "      <td>2.501</td>\n",
              "    </tr>\n",
              "    <tr>\n",
              "      <th>2019-11-26</th>\n",
              "      <td>2.470</td>\n",
              "    </tr>\n",
              "    <tr>\n",
              "      <th>2019-11-25</th>\n",
              "      <td>2.531</td>\n",
              "    </tr>\n",
              "    <tr>\n",
              "      <th>...</th>\n",
              "      <td>...</td>\n",
              "    </tr>\n",
              "    <tr>\n",
              "      <th>2000-06-05</th>\n",
              "      <td>4.398</td>\n",
              "    </tr>\n",
              "    <tr>\n",
              "      <th>2000-06-02</th>\n",
              "      <td>4.043</td>\n",
              "    </tr>\n",
              "    <tr>\n",
              "      <th>2000-06-01</th>\n",
              "      <td>4.064</td>\n",
              "    </tr>\n",
              "    <tr>\n",
              "      <th>2000-05-31</th>\n",
              "      <td>4.356</td>\n",
              "    </tr>\n",
              "    <tr>\n",
              "      <th>2000-05-30</th>\n",
              "      <td>4.354</td>\n",
              "    </tr>\n",
              "  </tbody>\n",
              "</table>\n",
              "<p>4970 rows × 1 columns</p>\n",
              "</div>\n",
              "      <button class=\"colab-df-convert\" onclick=\"convertToInteractive('df-3bf5e123-1b20-4e34-9bed-1399986c19ba')\"\n",
              "              title=\"Convert this dataframe to an interactive table.\"\n",
              "              style=\"display:none;\">\n",
              "        \n",
              "  <svg xmlns=\"http://www.w3.org/2000/svg\" height=\"24px\"viewBox=\"0 0 24 24\"\n",
              "       width=\"24px\">\n",
              "    <path d=\"M0 0h24v24H0V0z\" fill=\"none\"/>\n",
              "    <path d=\"M18.56 5.44l.94 2.06.94-2.06 2.06-.94-2.06-.94-.94-2.06-.94 2.06-2.06.94zm-11 1L8.5 8.5l.94-2.06 2.06-.94-2.06-.94L8.5 2.5l-.94 2.06-2.06.94zm10 10l.94 2.06.94-2.06 2.06-.94-2.06-.94-.94-2.06-.94 2.06-2.06.94z\"/><path d=\"M17.41 7.96l-1.37-1.37c-.4-.4-.92-.59-1.43-.59-.52 0-1.04.2-1.43.59L10.3 9.45l-7.72 7.72c-.78.78-.78 2.05 0 2.83L4 21.41c.39.39.9.59 1.41.59.51 0 1.02-.2 1.41-.59l7.78-7.78 2.81-2.81c.8-.78.8-2.07 0-2.86zM5.41 20L4 18.59l7.72-7.72 1.47 1.35L5.41 20z\"/>\n",
              "  </svg>\n",
              "      </button>\n",
              "      \n",
              "  <style>\n",
              "    .colab-df-container {\n",
              "      display:flex;\n",
              "      flex-wrap:wrap;\n",
              "      gap: 12px;\n",
              "    }\n",
              "\n",
              "    .colab-df-convert {\n",
              "      background-color: #E8F0FE;\n",
              "      border: none;\n",
              "      border-radius: 50%;\n",
              "      cursor: pointer;\n",
              "      display: none;\n",
              "      fill: #1967D2;\n",
              "      height: 32px;\n",
              "      padding: 0 0 0 0;\n",
              "      width: 32px;\n",
              "    }\n",
              "\n",
              "    .colab-df-convert:hover {\n",
              "      background-color: #E2EBFA;\n",
              "      box-shadow: 0px 1px 2px rgba(60, 64, 67, 0.3), 0px 1px 3px 1px rgba(60, 64, 67, 0.15);\n",
              "      fill: #174EA6;\n",
              "    }\n",
              "\n",
              "    [theme=dark] .colab-df-convert {\n",
              "      background-color: #3B4455;\n",
              "      fill: #D2E3FC;\n",
              "    }\n",
              "\n",
              "    [theme=dark] .colab-df-convert:hover {\n",
              "      background-color: #434B5C;\n",
              "      box-shadow: 0px 1px 3px 1px rgba(0, 0, 0, 0.15);\n",
              "      filter: drop-shadow(0px 1px 2px rgba(0, 0, 0, 0.3));\n",
              "      fill: #FFFFFF;\n",
              "    }\n",
              "  </style>\n",
              "\n",
              "      <script>\n",
              "        const buttonEl =\n",
              "          document.querySelector('#df-3bf5e123-1b20-4e34-9bed-1399986c19ba button.colab-df-convert');\n",
              "        buttonEl.style.display =\n",
              "          google.colab.kernel.accessAllowed ? 'block' : 'none';\n",
              "\n",
              "        async function convertToInteractive(key) {\n",
              "          const element = document.querySelector('#df-3bf5e123-1b20-4e34-9bed-1399986c19ba');\n",
              "          const dataTable =\n",
              "            await google.colab.kernel.invokeFunction('convertToInteractive',\n",
              "                                                     [key], {});\n",
              "          if (!dataTable) return;\n",
              "\n",
              "          const docLinkHtml = 'Like what you see? Visit the ' +\n",
              "            '<a target=\"_blank\" href=https://colab.research.google.com/notebooks/data_table.ipynb>data table notebook</a>'\n",
              "            + ' to learn more about interactive tables.';\n",
              "          element.innerHTML = '';\n",
              "          dataTable['output_type'] = 'display_data';\n",
              "          await google.colab.output.renderOutput(dataTable, element);\n",
              "          const docLink = document.createElement('div');\n",
              "          docLink.innerHTML = docLinkHtml;\n",
              "          element.appendChild(docLink);\n",
              "        }\n",
              "      </script>\n",
              "    </div>\n",
              "  </div>\n",
              "  "
            ]
          },
          "metadata": {},
          "execution_count": 30
        }
      ]
    },
    {
      "cell_type": "code",
      "source": [
        "testdata"
      ],
      "metadata": {
        "colab": {
          "base_uri": "https://localhost:8080/",
          "height": 1000
        },
        "id": "SnSzXrXGYd1J",
        "outputId": "6f7f0a55-2c8a-428f-f5ad-f35dfcf304bb"
      },
      "execution_count": null,
      "outputs": [
        {
          "output_type": "execute_result",
          "data": {
            "text/plain": [
              "            Price\n",
              "Date             \n",
              "2020-01-10  2.202\n",
              "2020-01-09  2.166\n",
              "2020-01-08  2.141\n",
              "2020-01-07  2.162\n",
              "2020-01-06  2.135\n",
              "2020-01-03  2.130\n",
              "2020-01-02  2.122\n",
              "2020-01-01  2.179\n",
              "2019-12-31  2.189\n",
              "2019-12-30  2.186\n",
              "2019-12-27  2.158\n",
              "2019-12-26  2.294\n",
              "2019-12-25  2.236\n",
              "2019-12-24  2.172\n",
              "2019-12-23  2.214\n",
              "2019-12-20  2.328\n",
              "2019-12-19  2.273\n",
              "2019-12-18  2.286\n",
              "2019-12-17  2.319\n",
              "2019-12-16  2.341\n",
              "2019-12-13  2.296\n",
              "2019-12-12  2.328\n",
              "2019-12-11  2.243\n",
              "2019-12-10  2.264\n",
              "2019-12-09  2.232\n",
              "2019-12-06  2.334\n",
              "2019-12-05  2.427\n",
              "2019-12-04  2.399\n",
              "2019-12-03  2.441\n",
              "2019-12-02  2.329"
            ],
            "text/html": [
              "\n",
              "  <div id=\"df-67fd294c-ca4c-4351-9861-6317bf26aa66\">\n",
              "    <div class=\"colab-df-container\">\n",
              "      <div>\n",
              "<style scoped>\n",
              "    .dataframe tbody tr th:only-of-type {\n",
              "        vertical-align: middle;\n",
              "    }\n",
              "\n",
              "    .dataframe tbody tr th {\n",
              "        vertical-align: top;\n",
              "    }\n",
              "\n",
              "    .dataframe thead th {\n",
              "        text-align: right;\n",
              "    }\n",
              "</style>\n",
              "<table border=\"1\" class=\"dataframe\">\n",
              "  <thead>\n",
              "    <tr style=\"text-align: right;\">\n",
              "      <th></th>\n",
              "      <th>Price</th>\n",
              "    </tr>\n",
              "    <tr>\n",
              "      <th>Date</th>\n",
              "      <th></th>\n",
              "    </tr>\n",
              "  </thead>\n",
              "  <tbody>\n",
              "    <tr>\n",
              "      <th>2020-01-10</th>\n",
              "      <td>2.202</td>\n",
              "    </tr>\n",
              "    <tr>\n",
              "      <th>2020-01-09</th>\n",
              "      <td>2.166</td>\n",
              "    </tr>\n",
              "    <tr>\n",
              "      <th>2020-01-08</th>\n",
              "      <td>2.141</td>\n",
              "    </tr>\n",
              "    <tr>\n",
              "      <th>2020-01-07</th>\n",
              "      <td>2.162</td>\n",
              "    </tr>\n",
              "    <tr>\n",
              "      <th>2020-01-06</th>\n",
              "      <td>2.135</td>\n",
              "    </tr>\n",
              "    <tr>\n",
              "      <th>2020-01-03</th>\n",
              "      <td>2.130</td>\n",
              "    </tr>\n",
              "    <tr>\n",
              "      <th>2020-01-02</th>\n",
              "      <td>2.122</td>\n",
              "    </tr>\n",
              "    <tr>\n",
              "      <th>2020-01-01</th>\n",
              "      <td>2.179</td>\n",
              "    </tr>\n",
              "    <tr>\n",
              "      <th>2019-12-31</th>\n",
              "      <td>2.189</td>\n",
              "    </tr>\n",
              "    <tr>\n",
              "      <th>2019-12-30</th>\n",
              "      <td>2.186</td>\n",
              "    </tr>\n",
              "    <tr>\n",
              "      <th>2019-12-27</th>\n",
              "      <td>2.158</td>\n",
              "    </tr>\n",
              "    <tr>\n",
              "      <th>2019-12-26</th>\n",
              "      <td>2.294</td>\n",
              "    </tr>\n",
              "    <tr>\n",
              "      <th>2019-12-25</th>\n",
              "      <td>2.236</td>\n",
              "    </tr>\n",
              "    <tr>\n",
              "      <th>2019-12-24</th>\n",
              "      <td>2.172</td>\n",
              "    </tr>\n",
              "    <tr>\n",
              "      <th>2019-12-23</th>\n",
              "      <td>2.214</td>\n",
              "    </tr>\n",
              "    <tr>\n",
              "      <th>2019-12-20</th>\n",
              "      <td>2.328</td>\n",
              "    </tr>\n",
              "    <tr>\n",
              "      <th>2019-12-19</th>\n",
              "      <td>2.273</td>\n",
              "    </tr>\n",
              "    <tr>\n",
              "      <th>2019-12-18</th>\n",
              "      <td>2.286</td>\n",
              "    </tr>\n",
              "    <tr>\n",
              "      <th>2019-12-17</th>\n",
              "      <td>2.319</td>\n",
              "    </tr>\n",
              "    <tr>\n",
              "      <th>2019-12-16</th>\n",
              "      <td>2.341</td>\n",
              "    </tr>\n",
              "    <tr>\n",
              "      <th>2019-12-13</th>\n",
              "      <td>2.296</td>\n",
              "    </tr>\n",
              "    <tr>\n",
              "      <th>2019-12-12</th>\n",
              "      <td>2.328</td>\n",
              "    </tr>\n",
              "    <tr>\n",
              "      <th>2019-12-11</th>\n",
              "      <td>2.243</td>\n",
              "    </tr>\n",
              "    <tr>\n",
              "      <th>2019-12-10</th>\n",
              "      <td>2.264</td>\n",
              "    </tr>\n",
              "    <tr>\n",
              "      <th>2019-12-09</th>\n",
              "      <td>2.232</td>\n",
              "    </tr>\n",
              "    <tr>\n",
              "      <th>2019-12-06</th>\n",
              "      <td>2.334</td>\n",
              "    </tr>\n",
              "    <tr>\n",
              "      <th>2019-12-05</th>\n",
              "      <td>2.427</td>\n",
              "    </tr>\n",
              "    <tr>\n",
              "      <th>2019-12-04</th>\n",
              "      <td>2.399</td>\n",
              "    </tr>\n",
              "    <tr>\n",
              "      <th>2019-12-03</th>\n",
              "      <td>2.441</td>\n",
              "    </tr>\n",
              "    <tr>\n",
              "      <th>2019-12-02</th>\n",
              "      <td>2.329</td>\n",
              "    </tr>\n",
              "  </tbody>\n",
              "</table>\n",
              "</div>\n",
              "      <button class=\"colab-df-convert\" onclick=\"convertToInteractive('df-67fd294c-ca4c-4351-9861-6317bf26aa66')\"\n",
              "              title=\"Convert this dataframe to an interactive table.\"\n",
              "              style=\"display:none;\">\n",
              "        \n",
              "  <svg xmlns=\"http://www.w3.org/2000/svg\" height=\"24px\"viewBox=\"0 0 24 24\"\n",
              "       width=\"24px\">\n",
              "    <path d=\"M0 0h24v24H0V0z\" fill=\"none\"/>\n",
              "    <path d=\"M18.56 5.44l.94 2.06.94-2.06 2.06-.94-2.06-.94-.94-2.06-.94 2.06-2.06.94zm-11 1L8.5 8.5l.94-2.06 2.06-.94-2.06-.94L8.5 2.5l-.94 2.06-2.06.94zm10 10l.94 2.06.94-2.06 2.06-.94-2.06-.94-.94-2.06-.94 2.06-2.06.94z\"/><path d=\"M17.41 7.96l-1.37-1.37c-.4-.4-.92-.59-1.43-.59-.52 0-1.04.2-1.43.59L10.3 9.45l-7.72 7.72c-.78.78-.78 2.05 0 2.83L4 21.41c.39.39.9.59 1.41.59.51 0 1.02-.2 1.41-.59l7.78-7.78 2.81-2.81c.8-.78.8-2.07 0-2.86zM5.41 20L4 18.59l7.72-7.72 1.47 1.35L5.41 20z\"/>\n",
              "  </svg>\n",
              "      </button>\n",
              "      \n",
              "  <style>\n",
              "    .colab-df-container {\n",
              "      display:flex;\n",
              "      flex-wrap:wrap;\n",
              "      gap: 12px;\n",
              "    }\n",
              "\n",
              "    .colab-df-convert {\n",
              "      background-color: #E8F0FE;\n",
              "      border: none;\n",
              "      border-radius: 50%;\n",
              "      cursor: pointer;\n",
              "      display: none;\n",
              "      fill: #1967D2;\n",
              "      height: 32px;\n",
              "      padding: 0 0 0 0;\n",
              "      width: 32px;\n",
              "    }\n",
              "\n",
              "    .colab-df-convert:hover {\n",
              "      background-color: #E2EBFA;\n",
              "      box-shadow: 0px 1px 2px rgba(60, 64, 67, 0.3), 0px 1px 3px 1px rgba(60, 64, 67, 0.15);\n",
              "      fill: #174EA6;\n",
              "    }\n",
              "\n",
              "    [theme=dark] .colab-df-convert {\n",
              "      background-color: #3B4455;\n",
              "      fill: #D2E3FC;\n",
              "    }\n",
              "\n",
              "    [theme=dark] .colab-df-convert:hover {\n",
              "      background-color: #434B5C;\n",
              "      box-shadow: 0px 1px 3px 1px rgba(0, 0, 0, 0.15);\n",
              "      filter: drop-shadow(0px 1px 2px rgba(0, 0, 0, 0.3));\n",
              "      fill: #FFFFFF;\n",
              "    }\n",
              "  </style>\n",
              "\n",
              "      <script>\n",
              "        const buttonEl =\n",
              "          document.querySelector('#df-67fd294c-ca4c-4351-9861-6317bf26aa66 button.colab-df-convert');\n",
              "        buttonEl.style.display =\n",
              "          google.colab.kernel.accessAllowed ? 'block' : 'none';\n",
              "\n",
              "        async function convertToInteractive(key) {\n",
              "          const element = document.querySelector('#df-67fd294c-ca4c-4351-9861-6317bf26aa66');\n",
              "          const dataTable =\n",
              "            await google.colab.kernel.invokeFunction('convertToInteractive',\n",
              "                                                     [key], {});\n",
              "          if (!dataTable) return;\n",
              "\n",
              "          const docLinkHtml = 'Like what you see? Visit the ' +\n",
              "            '<a target=\"_blank\" href=https://colab.research.google.com/notebooks/data_table.ipynb>data table notebook</a>'\n",
              "            + ' to learn more about interactive tables.';\n",
              "          element.innerHTML = '';\n",
              "          dataTable['output_type'] = 'display_data';\n",
              "          await google.colab.output.renderOutput(dataTable, element);\n",
              "          const docLink = document.createElement('div');\n",
              "          docLink.innerHTML = docLinkHtml;\n",
              "          element.appendChild(docLink);\n",
              "        }\n",
              "      </script>\n",
              "    </div>\n",
              "  </div>\n",
              "  "
            ]
          },
          "metadata": {},
          "execution_count": 31
        }
      ]
    },
    {
      "cell_type": "code",
      "source": [
        "def feature_selection(data,label=None):\n",
        "    data['Date']=data.index\n",
        "    data['Day of Week']=data['Date'].dt.dayofweek\n",
        "    data['Month']=data['Date'].dt.month\n",
        "    data['Year']=data['Date'].dt.year\n",
        "    data['Day of Year']=data['Date'].dt.dayofyear\n",
        "    data['Day of Month']=data['Date'].dt.day\n",
        "    X=data[['Day of Week','Month','Year','Day of Year','Day of Month']]\n",
        "    if label:\n",
        "        Y=data[label]\n",
        "        return X,Y\n",
        "    return X"
      ],
      "metadata": {
        "id": "kwYaiRNMYd4A"
      },
      "execution_count": null,
      "outputs": []
    },
    {
      "cell_type": "code",
      "source": [
        "%%capture\n",
        "X_train,Y_train=feature_selection(traindata,label='Price')\n",
        "X_test,Y_test=feature_selection(testdata,label='Price')"
      ],
      "metadata": {
        "id": "baFjQamaYd9e"
      },
      "execution_count": null,
      "outputs": []
    },
    {
      "cell_type": "code",
      "source": [
        "print(X_train.shape,X_test.shape)"
      ],
      "metadata": {
        "colab": {
          "base_uri": "https://localhost:8080/"
        },
        "id": "JYZWhMrpYeAZ",
        "outputId": "80f90eb9-8f10-4e0e-fc0e-367bdcb0e584"
      },
      "execution_count": null,
      "outputs": [
        {
          "output_type": "stream",
          "name": "stdout",
          "text": [
            "(4970, 5) (30, 5)\n"
          ]
        }
      ]
    },
    {
      "cell_type": "code",
      "source": [
        "model=XGBRegressor(n_estimators=1000)"
      ],
      "metadata": {
        "id": "nDnhxAMqYqT5"
      },
      "execution_count": null,
      "outputs": []
    },
    {
      "cell_type": "code",
      "source": [
        "model.fit(X_train,Y_train,eval_set=[(X_train,Y_train),(X_test,Y_test)],verbose=False)"
      ],
      "metadata": {
        "colab": {
          "base_uri": "https://localhost:8080/"
        },
        "id": "fVRnTKlUYqWd",
        "outputId": "ca456a91-5127-4e8c-f5c2-4eefda2856fd"
      },
      "execution_count": null,
      "outputs": [
        {
          "output_type": "stream",
          "name": "stdout",
          "text": [
            "[06:53:39] WARNING: /workspace/src/objective/regression_obj.cu:152: reg:linear is now deprecated in favor of reg:squarederror.\n"
          ]
        },
        {
          "output_type": "execute_result",
          "data": {
            "text/plain": [
              "XGBRegressor(n_estimators=1000)"
            ]
          },
          "metadata": {},
          "execution_count": 36
        }
      ]
    },
    {
      "cell_type": "code",
      "source": [
        "#Plotting feature importance\n",
        "plot_importance(model)\n",
        "plt.rcParams[\"figure.figsize\"]=(8,8)\n",
        "plt.show()"
      ],
      "metadata": {
        "colab": {
          "base_uri": "https://localhost:8080/",
          "height": 295
        },
        "id": "TxlnRjrgYqY-",
        "outputId": "466fedba-1bc3-4606-a8f9-f6508ede9212"
      },
      "execution_count": null,
      "outputs": [
        {
          "output_type": "display_data",
          "data": {
            "text/plain": [
              "<Figure size 432x288 with 1 Axes>"
            ],
            "image/png": "[encoded data removed]"
          },
          "metadata": {
            "needs_background": "light"
          }
        }
      ]
    },
    {
      "cell_type": "code",
      "source": [
        "%%capture\n",
        "testdata['Predicted_Price']=model.predict(X_test)\n",
        "new_data=pd.concat([testdata,traindata])"
      ],
      "metadata": {
        "id": "BuhMWjbBY1_p"
      },
      "execution_count": null,
      "outputs": []
    },
    {
      "cell_type": "code",
      "source": [
        "plt.figure(figsize=(16,8))\n",
        "plt.title('Prediction of Price of Crude Oil')\n",
        "plt.plot(new_data.Price)\n",
        "plt.plot(new_data.Predicted_Price)\n",
        "plt.xlabel('Date')\n",
        "plt.ylabel('Price')\n",
        "plt.legend(['Actual Price','Predicted Price'])\n",
        "plt.show()\n"
      ],
      "metadata": {
        "colab": {
          "base_uri": "https://localhost:8080/",
          "height": 513
        },
        "id": "_RkQplB8Y2Cv",
        "outputId": "b440e505-79c3-4212-fabf-d107025ed398"
      },
      "execution_count": null,
      "outputs": [
        {
          "output_type": "display_data",
          "data": {
            "text/plain": [
              "<Figure size 1152x576 with 1 Axes>"
            ],
            "image/png": "[encoded data removed]"
          },
          "metadata": {
            "needs_background": "light"
          }
        }
      ]
    },
    {
      "cell_type": "code",
      "source": [
        ""
      ],
      "metadata": {
        "id": "046OJ4B4Y2GJ"
      },
      "execution_count": null,
      "outputs": []
    }
  ]
}