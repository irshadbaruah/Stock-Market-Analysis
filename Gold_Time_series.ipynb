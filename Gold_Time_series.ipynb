{
  "cells": [
    {
      "cell_type": "markdown",
      "metadata": {
        "id": "8j05SyU6hij4"
      },
      "source": [
        "Time Series Analysis of Gold Market\n",
        "\n",
        "Data is taken from 2014 to 2022"
      ]
    },
    {
      "cell_type": "markdown",
      "metadata": {
        "id": "v_gbTk2_hgmQ"
      },
      "source": [
        ""
      ]
    },
    {
      "cell_type": "code",
      "execution_count": null,
      "metadata": {
        "id": "IPE9tHAshE7h"
      },
      "outputs": [],
      "source": [
        "# Importing the libraries\n",
        "import numpy as np\n",
        "import matplotlib.pyplot as plt\n",
        "import pandas as pd\n",
        "import datetime"
      ]
    },
    {
      "cell_type": "code",
      "execution_count": null,
      "metadata": {
        "id": "x9o4219RZTN2"
      },
      "outputs": [],
      "source": [
        "dataset = pd.read_csv('Gold Price.csv',index_col=\"Date\",parse_dates=True)"
      ]
    },
    {
      "cell_type": "code",
      "source": [
        "dataset_train = pd.read_csv('Gold Price.csv')  \n",
        "training_set = dataset_train.iloc[:, 1:2].values  "
      ],
      "metadata": {
        "id": "WBjdxMyB_SxB"
      },
      "execution_count": null,
      "outputs": []
    },
    {
      "cell_type": "code",
      "source": [
        "training_set"
      ],
      "metadata": {
        "colab": {
          "base_uri": "https://localhost:8080/"
        },
        "id": "9Xpdoya1_cmH",
        "outputId": "c0f78f80-3cc0-43b2-cfee-0caac783e357"
      },
      "execution_count": null,
      "outputs": [
        {
          "output_type": "execute_result",
          "data": {
            "text/plain": [
              "array([[29542],\n",
              "       [29975],\n",
              "       [29727],\n",
              "       ...,\n",
              "       [47933],\n",
              "       [47888],\n",
              "       [47515]])"
            ]
          },
          "metadata": {},
          "execution_count": 37
        }
      ]
    },
    {
      "cell_type": "code",
      "execution_count": null,
      "metadata": {
        "colab": {
          "base_uri": "https://localhost:8080/",
          "height": 238
        },
        "id": "X2__qNxPZikV",
        "outputId": "9a3253fa-c0c6-478f-904f-afa6a9b6baed"
      },
      "outputs": [
        {
          "output_type": "execute_result",
          "data": {
            "text/plain": [
              "            Price   Open   High    Low  Volume  Chg%\n",
              "Date                                                \n",
              "2014-01-01  29542  29435  29598  29340    2930  0.25\n",
              "2014-01-02  29975  29678  30050  29678    3140  1.47\n",
              "2014-01-03  29727  30031  30125  29539    3050 -0.83\n",
              "2014-01-04  29279  29279  29279  29279       0 -1.51\n",
              "2014-01-06  29119  29300  29395  29051   24380 -0.55"
            ],
            "text/html": [
              "\n",
              "  <div id=\"df-1c9e896e-3f22-488c-a03d-5bed528cf473\">\n",
              "    <div class=\"colab-df-container\">\n",
              "      <div>\n",
              "<style scoped>\n",
              "    .dataframe tbody tr th:only-of-type {\n",
              "        vertical-align: middle;\n",
              "    }\n",
              "\n",
              "    .dataframe tbody tr th {\n",
              "        vertical-align: top;\n",
              "    }\n",
              "\n",
              "    .dataframe thead th {\n",
              "        text-align: right;\n",
              "    }\n",
              "</style>\n",
              "<table border=\"1\" class=\"dataframe\">\n",
              "  <thead>\n",
              "    <tr style=\"text-align: right;\">\n",
              "      <th></th>\n",
              "      <th>Price</th>\n",
              "      <th>Open</th>\n",
              "      <th>High</th>\n",
              "      <th>Low</th>\n",
              "      <th>Volume</th>\n",
              "      <th>Chg%</th>\n",
              "    </tr>\n",
              "    <tr>\n",
              "      <th>Date</th>\n",
              "      <th></th>\n",
              "      <th></th>\n",
              "      <th></th>\n",
              "      <th></th>\n",
              "      <th></th>\n",
              "      <th></th>\n",
              "    </tr>\n",
              "  </thead>\n",
              "  <tbody>\n",
              "    <tr>\n",
              "      <th>2014-01-01</th>\n",
              "      <td>29542</td>\n",
              "      <td>29435</td>\n",
              "      <td>29598</td>\n",
              "      <td>29340</td>\n",
              "      <td>2930</td>\n",
              "      <td>0.25</td>\n",
              "    </tr>\n",
              "    <tr>\n",
              "      <th>2014-01-02</th>\n",
              "      <td>29975</td>\n",
              "      <td>29678</td>\n",
              "      <td>30050</td>\n",
              "      <td>29678</td>\n",
              "      <td>3140</td>\n",
              "      <td>1.47</td>\n",
              "    </tr>\n",
              "    <tr>\n",
              "      <th>2014-01-03</th>\n",
              "      <td>29727</td>\n",
              "      <td>30031</td>\n",
              "      <td>30125</td>\n",
              "      <td>29539</td>\n",
              "      <td>3050</td>\n",
              "      <td>-0.83</td>\n",
              "    </tr>\n",
              "    <tr>\n",
              "      <th>2014-01-04</th>\n",
              "      <td>29279</td>\n",
              "      <td>29279</td>\n",
              "      <td>29279</td>\n",
              "      <td>29279</td>\n",
              "      <td>0</td>\n",
              "      <td>-1.51</td>\n",
              "    </tr>\n",
              "    <tr>\n",
              "      <th>2014-01-06</th>\n",
              "      <td>29119</td>\n",
              "      <td>29300</td>\n",
              "      <td>29395</td>\n",
              "      <td>29051</td>\n",
              "      <td>24380</td>\n",
              "      <td>-0.55</td>\n",
              "    </tr>\n",
              "  </tbody>\n",
              "</table>\n",
              "</div>\n",
              "      <button class=\"colab-df-convert\" onclick=\"convertToInteractive('df-1c9e896e-3f22-488c-a03d-5bed528cf473')\"\n",
              "              title=\"Convert this dataframe to an interactive table.\"\n",
              "              style=\"display:none;\">\n",
              "        \n",
              "  <svg xmlns=\"http://www.w3.org/2000/svg\" height=\"24px\"viewBox=\"0 0 24 24\"\n",
              "       width=\"24px\">\n",
              "    <path d=\"M0 0h24v24H0V0z\" fill=\"none\"/>\n",
              "    <path d=\"M18.56 5.44l.94 2.06.94-2.06 2.06-.94-2.06-.94-.94-2.06-.94 2.06-2.06.94zm-11 1L8.5 8.5l.94-2.06 2.06-.94-2.06-.94L8.5 2.5l-.94 2.06-2.06.94zm10 10l.94 2.06.94-2.06 2.06-.94-2.06-.94-.94-2.06-.94 2.06-2.06.94z\"/><path d=\"M17.41 7.96l-1.37-1.37c-.4-.4-.92-.59-1.43-.59-.52 0-1.04.2-1.43.59L10.3 9.45l-7.72 7.72c-.78.78-.78 2.05 0 2.83L4 21.41c.39.39.9.59 1.41.59.51 0 1.02-.2 1.41-.59l7.78-7.78 2.81-2.81c.8-.78.8-2.07 0-2.86zM5.41 20L4 18.59l7.72-7.72 1.47 1.35L5.41 20z\"/>\n",
              "  </svg>\n",
              "      </button>\n",
              "      \n",
              "  <style>\n",
              "    .colab-df-container {\n",
              "      display:flex;\n",
              "      flex-wrap:wrap;\n",
              "      gap: 12px;\n",
              "    }\n",
              "\n",
              "    .colab-df-convert {\n",
              "      background-color: #E8F0FE;\n",
              "      border: none;\n",
              "      border-radius: 50%;\n",
              "      cursor: pointer;\n",
              "      display: none;\n",
              "      fill: #1967D2;\n",
              "      height: 32px;\n",
              "      padding: 0 0 0 0;\n",
              "      width: 32px;\n",
              "    }\n",
              "\n",
              "    .colab-df-convert:hover {\n",
              "      background-color: #E2EBFA;\n",
              "      box-shadow: 0px 1px 2px rgba(60, 64, 67, 0.3), 0px 1px 3px 1px rgba(60, 64, 67, 0.15);\n",
              "      fill: #174EA6;\n",
              "    }\n",
              "\n",
              "    [theme=dark] .colab-df-convert {\n",
              "      background-color: #3B4455;\n",
              "      fill: #D2E3FC;\n",
              "    }\n",
              "\n",
              "    [theme=dark] .colab-df-convert:hover {\n",
              "      background-color: #434B5C;\n",
              "      box-shadow: 0px 1px 3px 1px rgba(0, 0, 0, 0.15);\n",
              "      filter: drop-shadow(0px 1px 2px rgba(0, 0, 0, 0.3));\n",
              "      fill: #FFFFFF;\n",
              "    }\n",
              "  </style>\n",
              "\n",
              "      <script>\n",
              "        const buttonEl =\n",
              "          document.querySelector('#df-1c9e896e-3f22-488c-a03d-5bed528cf473 button.colab-df-convert');\n",
              "        buttonEl.style.display =\n",
              "          google.colab.kernel.accessAllowed ? 'block' : 'none';\n",
              "\n",
              "        async function convertToInteractive(key) {\n",
              "          const element = document.querySelector('#df-1c9e896e-3f22-488c-a03d-5bed528cf473');\n",
              "          const dataTable =\n",
              "            await google.colab.kernel.invokeFunction('convertToInteractive',\n",
              "                                                     [key], {});\n",
              "          if (!dataTable) return;\n",
              "\n",
              "          const docLinkHtml = 'Like what you see? Visit the ' +\n",
              "            '<a target=\"_blank\" href=https://colab.research.google.com/notebooks/data_table.ipynb>data table notebook</a>'\n",
              "            + ' to learn more about interactive tables.';\n",
              "          element.innerHTML = '';\n",
              "          dataTable['output_type'] = 'display_data';\n",
              "          await google.colab.output.renderOutput(dataTable, element);\n",
              "          const docLink = document.createElement('div');\n",
              "          docLink.innerHTML = docLinkHtml;\n",
              "          element.appendChild(docLink);\n",
              "        }\n",
              "      </script>\n",
              "    </div>\n",
              "  </div>\n",
              "  "
            ]
          },
          "metadata": {},
          "execution_count": 38
        }
      ],
      "source": [
        "dataset.head()"
      ]
    },
    {
      "cell_type": "code",
      "execution_count": null,
      "metadata": {
        "colab": {
          "base_uri": "https://localhost:8080/"
        },
        "id": "UsK7xJiiZqY-",
        "outputId": "f1b0f0b2-7a4b-49e9-c142-51228960d351"
      },
      "outputs": [
        {
          "output_type": "execute_result",
          "data": {
            "text/plain": [
              "Price     False\n",
              "Open      False\n",
              "High      False\n",
              "Low       False\n",
              "Volume    False\n",
              "Chg%      False\n",
              "dtype: bool"
            ]
          },
          "metadata": {},
          "execution_count": 39
        }
      ],
      "source": [
        "dataset.isna().any()"
      ]
    },
    {
      "cell_type": "code",
      "execution_count": null,
      "metadata": {
        "colab": {
          "base_uri": "https://localhost:8080/",
          "height": 282
        },
        "id": "aBhwr3sFZwoe",
        "outputId": "548c388f-e86d-43ea-d83c-1a3aca5fb0ff"
      },
      "outputs": [
        {
          "output_type": "execute_result",
          "data": {
            "text/plain": [
              "<matplotlib.axes._subplots.AxesSubplot at 0x7f3c816cff10>"
            ]
          },
          "metadata": {},
          "execution_count": 7
        },
        {
          "output_type": "display_data",
          "data": {
            "text/plain": [
              "<Figure size 1152x432 with 1 Axes>"
            ],
            "image/png": "[encoded data removed]"
          },
          "metadata": {
            "needs_background": "light"
          }
        }
      ],
      "source": [
        "dataset['Open'].plot(figsize=(16,6))"
      ]
    },
    {
      "cell_type": "code",
      "execution_count": null,
      "metadata": {
        "colab": {
          "base_uri": "https://localhost:8080/",
          "height": 1000
        },
        "id": "r2X4JtewaCHu",
        "outputId": "e53eeaa7-fc1b-4eb6-884e-eacfdc670981"
      },
      "outputs": [
        {
          "output_type": "execute_result",
          "data": {
            "text/plain": [
              "                   Price          Open          High           Low  \\\n",
              "Date                                                                 \n",
              "2014-01-01           NaN           NaN           NaN           NaN   \n",
              "2014-01-02           NaN           NaN           NaN           NaN   \n",
              "2014-01-03           NaN           NaN           NaN           NaN   \n",
              "2014-01-04           NaN           NaN           NaN           NaN   \n",
              "2014-01-06           NaN           NaN           NaN           NaN   \n",
              "2014-01-07           NaN           NaN           NaN           NaN   \n",
              "2014-01-08  29362.142857  29395.571429  29524.428571  29231.285714   \n",
              "2014-01-09  29284.285714  29332.000000  29446.571429  29163.428571   \n",
              "2014-01-10  29169.142857  29239.428571  29324.857143  29060.857143   \n",
              "2014-01-13  29109.857143  29116.428571  29211.285714  29002.857143   \n",
              "2014-01-14  29098.285714  29117.857143  29227.142857  28985.142857   \n",
              "2014-01-15  29102.714286  29098.000000  29196.428571  28978.142857   \n",
              "2014-01-16  29132.571429  29103.000000  29204.285714  29003.571429   \n",
              "2014-01-17  29197.000000  29133.857143  29259.428571  29037.000000   \n",
              "2014-01-20  29256.571429  29193.857143  29323.142857  29112.285714   \n",
              "2014-01-21  29284.142857  29245.571429  29353.571429  29154.571429   \n",
              "2014-01-22  29278.000000  29271.857143  29367.285714  29169.000000   \n",
              "2014-01-23  29306.000000  29263.428571  29378.428571  29163.428571   \n",
              "2014-01-24  29366.571429  29297.428571  29452.142857  29212.428571   \n",
              "2014-01-27  29471.857143  29371.285714  29549.142857  29297.000000   \n",
              "\n",
              "                  Volume      Chg%  \n",
              "Date                                \n",
              "2014-01-01           NaN       NaN  \n",
              "2014-01-02           NaN       NaN  \n",
              "2014-01-03           NaN       NaN  \n",
              "2014-01-04           NaN       NaN  \n",
              "2014-01-06           NaN       NaN  \n",
              "2014-01-07           NaN       NaN  \n",
              "2014-01-08  10050.000000 -0.258571  \n",
              "2014-01-09  11792.857143 -0.262857  \n",
              "2014-01-10  13602.857143 -0.388571  \n",
              "2014-01-13  15135.714286 -0.200000  \n",
              "2014-01-14  16650.000000 -0.040000  \n",
              "2014-01-15  15164.285714  0.015714  \n",
              "2014-01-16  14288.571429  0.102857  \n",
              "2014-01-17  14217.142857  0.221429  \n",
              "2014-01-20  13404.285714  0.204286  \n",
              "2014-01-21  13747.142857  0.094286  \n",
              "2014-01-22  13907.142857 -0.021429  \n",
              "2014-01-23  16798.571429  0.095714  \n",
              "2014-01-24  17714.285714  0.205714  \n",
              "2014-01-27  19077.142857  0.357143  "
            ],
            "text/html": [
              "\n",
              "  <div id=\"df-5981aa08-2183-4937-866d-1cb03e9a97f6\">\n",
              "    <div class=\"colab-df-container\">\n",
              "      <div>\n",
              "<style scoped>\n",
              "    .dataframe tbody tr th:only-of-type {\n",
              "        vertical-align: middle;\n",
              "    }\n",
              "\n",
              "    .dataframe tbody tr th {\n",
              "        vertical-align: top;\n",
              "    }\n",
              "\n",
              "    .dataframe thead th {\n",
              "        text-align: right;\n",
              "    }\n",
              "</style>\n",
              "<table border=\"1\" class=\"dataframe\">\n",
              "  <thead>\n",
              "    <tr style=\"text-align: right;\">\n",
              "      <th></th>\n",
              "      <th>Price</th>\n",
              "      <th>Open</th>\n",
              "      <th>High</th>\n",
              "      <th>Low</th>\n",
              "      <th>Volume</th>\n",
              "      <th>Chg%</th>\n",
              "    </tr>\n",
              "    <tr>\n",
              "      <th>Date</th>\n",
              "      <th></th>\n",
              "      <th></th>\n",
              "      <th></th>\n",
              "      <th></th>\n",
              "      <th></th>\n",
              "      <th></th>\n",
              "    </tr>\n",
              "  </thead>\n",
              "  <tbody>\n",
              "    <tr>\n",
              "      <th>2014-01-01</th>\n",
              "      <td>NaN</td>\n",
              "      <td>NaN</td>\n",
              "      <td>NaN</td>\n",
              "      <td>NaN</td>\n",
              "      <td>NaN</td>\n",
              "      <td>NaN</td>\n",
              "    </tr>\n",
              "    <tr>\n",
              "      <th>2014-01-02</th>\n",
              "      <td>NaN</td>\n",
              "      <td>NaN</td>\n",
              "      <td>NaN</td>\n",
              "      <td>NaN</td>\n",
              "      <td>NaN</td>\n",
              "      <td>NaN</td>\n",
              "    </tr>\n",
              "    <tr>\n",
              "      <th>2014-01-03</th>\n",
              "      <td>NaN</td>\n",
              "      <td>NaN</td>\n",
              "      <td>NaN</td>\n",
              "      <td>NaN</td>\n",
              "      <td>NaN</td>\n",
              "      <td>NaN</td>\n",
              "    </tr>\n",
              "    <tr>\n",
              "      <th>2014-01-04</th>\n",
              "      <td>NaN</td>\n",
              "      <td>NaN</td>\n",
              "      <td>NaN</td>\n",
              "      <td>NaN</td>\n",
              "      <td>NaN</td>\n",
              "      <td>NaN</td>\n",
              "    </tr>\n",
              "    <tr>\n",
              "      <th>2014-01-06</th>\n",
              "      <td>NaN</td>\n",
              "      <td>NaN</td>\n",
              "      <td>NaN</td>\n",
              "      <td>NaN</td>\n",
              "      <td>NaN</td>\n",
              "      <td>NaN</td>\n",
              "    </tr>\n",
              "    <tr>\n",
              "      <th>2014-01-07</th>\n",
              "      <td>NaN</td>\n",
              "      <td>NaN</td>\n",
              "      <td>NaN</td>\n",
              "      <td>NaN</td>\n",
              "      <td>NaN</td>\n",
              "      <td>NaN</td>\n",
              "    </tr>\n",
              "    <tr>\n",
              "      <th>2014-01-08</th>\n",
              "      <td>29362.142857</td>\n",
              "      <td>29395.571429</td>\n",
              "      <td>29524.428571</td>\n",
              "      <td>29231.285714</td>\n",
              "      <td>10050.000000</td>\n",
              "      <td>-0.258571</td>\n",
              "    </tr>\n",
              "    <tr>\n",
              "      <th>2014-01-09</th>\n",
              "      <td>29284.285714</td>\n",
              "      <td>29332.000000</td>\n",
              "      <td>29446.571429</td>\n",
              "      <td>29163.428571</td>\n",
              "      <td>11792.857143</td>\n",
              "      <td>-0.262857</td>\n",
              "    </tr>\n",
              "    <tr>\n",
              "      <th>2014-01-10</th>\n",
              "      <td>29169.142857</td>\n",
              "      <td>29239.428571</td>\n",
              "      <td>29324.857143</td>\n",
              "      <td>29060.857143</td>\n",
              "      <td>13602.857143</td>\n",
              "      <td>-0.388571</td>\n",
              "    </tr>\n",
              "    <tr>\n",
              "      <th>2014-01-13</th>\n",
              "      <td>29109.857143</td>\n",
              "      <td>29116.428571</td>\n",
              "      <td>29211.285714</td>\n",
              "      <td>29002.857143</td>\n",
              "      <td>15135.714286</td>\n",
              "      <td>-0.200000</td>\n",
              "    </tr>\n",
              "    <tr>\n",
              "      <th>2014-01-14</th>\n",
              "      <td>29098.285714</td>\n",
              "      <td>29117.857143</td>\n",
              "      <td>29227.142857</td>\n",
              "      <td>28985.142857</td>\n",
              "      <td>16650.000000</td>\n",
              "      <td>-0.040000</td>\n",
              "    </tr>\n",
              "    <tr>\n",
              "      <th>2014-01-15</th>\n",
              "      <td>29102.714286</td>\n",
              "      <td>29098.000000</td>\n",
              "      <td>29196.428571</td>\n",
              "      <td>28978.142857</td>\n",
              "      <td>15164.285714</td>\n",
              "      <td>0.015714</td>\n",
              "    </tr>\n",
              "    <tr>\n",
              "      <th>2014-01-16</th>\n",
              "      <td>29132.571429</td>\n",
              "      <td>29103.000000</td>\n",
              "      <td>29204.285714</td>\n",
              "      <td>29003.571429</td>\n",
              "      <td>14288.571429</td>\n",
              "      <td>0.102857</td>\n",
              "    </tr>\n",
              "    <tr>\n",
              "      <th>2014-01-17</th>\n",
              "      <td>29197.000000</td>\n",
              "      <td>29133.857143</td>\n",
              "      <td>29259.428571</td>\n",
              "      <td>29037.000000</td>\n",
              "      <td>14217.142857</td>\n",
              "      <td>0.221429</td>\n",
              "    </tr>\n",
              "    <tr>\n",
              "      <th>2014-01-20</th>\n",
              "      <td>29256.571429</td>\n",
              "      <td>29193.857143</td>\n",
              "      <td>29323.142857</td>\n",
              "      <td>29112.285714</td>\n",
              "      <td>13404.285714</td>\n",
              "      <td>0.204286</td>\n",
              "    </tr>\n",
              "    <tr>\n",
              "      <th>2014-01-21</th>\n",
              "      <td>29284.142857</td>\n",
              "      <td>29245.571429</td>\n",
              "      <td>29353.571429</td>\n",
              "      <td>29154.571429</td>\n",
              "      <td>13747.142857</td>\n",
              "      <td>0.094286</td>\n",
              "    </tr>\n",
              "    <tr>\n",
              "      <th>2014-01-22</th>\n",
              "      <td>29278.000000</td>\n",
              "      <td>29271.857143</td>\n",
              "      <td>29367.285714</td>\n",
              "      <td>29169.000000</td>\n",
              "      <td>13907.142857</td>\n",
              "      <td>-0.021429</td>\n",
              "    </tr>\n",
              "    <tr>\n",
              "      <th>2014-01-23</th>\n",
              "      <td>29306.000000</td>\n",
              "      <td>29263.428571</td>\n",
              "      <td>29378.428571</td>\n",
              "      <td>29163.428571</td>\n",
              "      <td>16798.571429</td>\n",
              "      <td>0.095714</td>\n",
              "    </tr>\n",
              "    <tr>\n",
              "      <th>2014-01-24</th>\n",
              "      <td>29366.571429</td>\n",
              "      <td>29297.428571</td>\n",
              "      <td>29452.142857</td>\n",
              "      <td>29212.428571</td>\n",
              "      <td>17714.285714</td>\n",
              "      <td>0.205714</td>\n",
              "    </tr>\n",
              "    <tr>\n",
              "      <th>2014-01-27</th>\n",
              "      <td>29471.857143</td>\n",
              "      <td>29371.285714</td>\n",
              "      <td>29549.142857</td>\n",
              "      <td>29297.000000</td>\n",
              "      <td>19077.142857</td>\n",
              "      <td>0.357143</td>\n",
              "    </tr>\n",
              "  </tbody>\n",
              "</table>\n",
              "</div>\n",
              "      <button class=\"colab-df-convert\" onclick=\"convertToInteractive('df-5981aa08-2183-4937-866d-1cb03e9a97f6')\"\n",
              "              title=\"Convert this dataframe to an interactive table.\"\n",
              "              style=\"display:none;\">\n",
              "        \n",
              "  <svg xmlns=\"http://www.w3.org/2000/svg\" height=\"24px\"viewBox=\"0 0 24 24\"\n",
              "       width=\"24px\">\n",
              "    <path d=\"M0 0h24v24H0V0z\" fill=\"none\"/>\n",
              "    <path d=\"M18.56 5.44l.94 2.06.94-2.06 2.06-.94-2.06-.94-.94-2.06-.94 2.06-2.06.94zm-11 1L8.5 8.5l.94-2.06 2.06-.94-2.06-.94L8.5 2.5l-.94 2.06-2.06.94zm10 10l.94 2.06.94-2.06 2.06-.94-2.06-.94-.94-2.06-.94 2.06-2.06.94z\"/><path d=\"M17.41 7.96l-1.37-1.37c-.4-.4-.92-.59-1.43-.59-.52 0-1.04.2-1.43.59L10.3 9.45l-7.72 7.72c-.78.78-.78 2.05 0 2.83L4 21.41c.39.39.9.59 1.41.59.51 0 1.02-.2 1.41-.59l7.78-7.78 2.81-2.81c.8-.78.8-2.07 0-2.86zM5.41 20L4 18.59l7.72-7.72 1.47 1.35L5.41 20z\"/>\n",
              "  </svg>\n",
              "      </button>\n",
              "      \n",
              "  <style>\n",
              "    .colab-df-container {\n",
              "      display:flex;\n",
              "      flex-wrap:wrap;\n",
              "      gap: 12px;\n",
              "    }\n",
              "\n",
              "    .colab-df-convert {\n",
              "      background-color: #E8F0FE;\n",
              "      border: none;\n",
              "      border-radius: 50%;\n",
              "      cursor: pointer;\n",
              "      display: none;\n",
              "      fill: #1967D2;\n",
              "      height: 32px;\n",
              "      padding: 0 0 0 0;\n",
              "      width: 32px;\n",
              "    }\n",
              "\n",
              "    .colab-df-convert:hover {\n",
              "      background-color: #E2EBFA;\n",
              "      box-shadow: 0px 1px 2px rgba(60, 64, 67, 0.3), 0px 1px 3px 1px rgba(60, 64, 67, 0.15);\n",
              "      fill: #174EA6;\n",
              "    }\n",
              "\n",
              "    [theme=dark] .colab-df-convert {\n",
              "      background-color: #3B4455;\n",
              "      fill: #D2E3FC;\n",
              "    }\n",
              "\n",
              "    [theme=dark] .colab-df-convert:hover {\n",
              "      background-color: #434B5C;\n",
              "      box-shadow: 0px 1px 3px 1px rgba(0, 0, 0, 0.15);\n",
              "      filter: drop-shadow(0px 1px 2px rgba(0, 0, 0, 0.3));\n",
              "      fill: #FFFFFF;\n",
              "    }\n",
              "  </style>\n",
              "\n",
              "      <script>\n",
              "        const buttonEl =\n",
              "          document.querySelector('#df-5981aa08-2183-4937-866d-1cb03e9a97f6 button.colab-df-convert');\n",
              "        buttonEl.style.display =\n",
              "          google.colab.kernel.accessAllowed ? 'block' : 'none';\n",
              "\n",
              "        async function convertToInteractive(key) {\n",
              "          const element = document.querySelector('#df-5981aa08-2183-4937-866d-1cb03e9a97f6');\n",
              "          const dataTable =\n",
              "            await google.colab.kernel.invokeFunction('convertToInteractive',\n",
              "                                                     [key], {});\n",
              "          if (!dataTable) return;\n",
              "\n",
              "          const docLinkHtml = 'Like what you see? Visit the ' +\n",
              "            '<a target=\"_blank\" href=https://colab.research.google.com/notebooks/data_table.ipynb>data table notebook</a>'\n",
              "            + ' to learn more about interactive tables.';\n",
              "          element.innerHTML = '';\n",
              "          dataTable['output_type'] = 'display_data';\n",
              "          await google.colab.output.renderOutput(dataTable, element);\n",
              "          const docLink = document.createElement('div');\n",
              "          docLink.innerHTML = docLinkHtml;\n",
              "          element.appendChild(docLink);\n",
              "        }\n",
              "      </script>\n",
              "    </div>\n",
              "  </div>\n",
              "  "
            ]
          },
          "metadata": {},
          "execution_count": 8
        }
      ],
      "source": [
        "# 7 day rolling mean\n",
        "dataset.rolling(7).mean().head(20)"
      ]
    },
    {
      "cell_type": "code",
      "execution_count": null,
      "metadata": {
        "colab": {
          "base_uri": "https://localhost:8080/",
          "height": 282
        },
        "id": "fvZ3cwwrapBv",
        "outputId": "dc9131ed-1992-4f85-8690-cf0e5fa4959d"
      },
      "outputs": [
        {
          "output_type": "execute_result",
          "data": {
            "text/plain": [
              "<matplotlib.axes._subplots.AxesSubplot at 0x7f3c81585550>"
            ]
          },
          "metadata": {},
          "execution_count": 9
        },
        {
          "output_type": "display_data",
          "data": {
            "text/plain": [
              "<Figure size 1152x432 with 1 Axes>"
            ],
            "image/png": "[encoded data removed]"
          },
          "metadata": {
            "needs_background": "light"
          }
        }
      ],
      "source": [
        "dataset.rolling(window=30).mean()['High'].plot()\n",
        "dataset['Open'].plot(figsize=(16,6))"
      ]
    },
    {
      "cell_type": "code",
      "execution_count": null,
      "metadata": {
        "colab": {
          "base_uri": "https://localhost:8080/",
          "height": 282
        },
        "id": "ar2u2Cw3k29Z",
        "outputId": "aed5677c-66c0-4b30-f07c-c63e61310713"
      },
      "outputs": [
        {
          "output_type": "execute_result",
          "data": {
            "text/plain": [
              "<matplotlib.axes._subplots.AxesSubplot at 0x7f3c81063c50>"
            ]
          },
          "metadata": {},
          "execution_count": 10
        },
        {
          "output_type": "display_data",
          "data": {
            "text/plain": [
              "<Figure size 1152x432 with 1 Axes>"
            ],
            "image/png": "[encoded data removed]"
          },
          "metadata": {
            "needs_background": "light"
          }
        }
      ],
      "source": [
        "dataset.rolling(window=30).mean()['Low'].plot()\n",
        "dataset['Open'].plot(figsize=(16,6))"
      ]
    },
    {
      "cell_type": "code",
      "execution_count": null,
      "metadata": {
        "id": "n1EBMaIwdRh4"
      },
      "outputs": [],
      "source": [
        "training_set=dataset['Open']\n",
        "training_set=pd.DataFrame(training_set)\n"
      ]
    },
    {
      "cell_type": "code",
      "source": [
        "# Importing the training set  \n",
        "dataset_train = pd.read_csv('Gold Price.csv')  \n",
        "training_set = dataset_train.iloc[:, 1:2].values  "
      ],
      "metadata": {
        "id": "CERmcHTGZjnE"
      },
      "execution_count": null,
      "outputs": []
    },
    {
      "cell_type": "code",
      "execution_count": null,
      "metadata": {
        "id": "wCejq7ZWdgyO"
      },
      "outputs": [],
      "source": [
        "# Feature Scaling\n",
        "from sklearn.preprocessing import MinMaxScaler\n",
        "sc = MinMaxScaler(feature_range = (0, 1))\n",
        "training_set_scaled = sc.fit_transform(training_set)"
      ]
    },
    {
      "cell_type": "code",
      "source": [
        "\n",
        "training_set_scaled\n"
      ],
      "metadata": {
        "colab": {
          "base_uri": "https://localhost:8080/"
        },
        "id": "7hPYiidHe7cC",
        "outputId": "d8d30a3f-ac3f-4dfe-f2ad-7987a2575566"
      },
      "execution_count": null,
      "outputs": [
        {
          "output_type": "execute_result",
          "data": {
            "text/plain": [
              "array([[0.15827315],\n",
              "       [0.17198784],\n",
              "       [0.16413278],\n",
              "       ...,\n",
              "       [0.74078297],\n",
              "       [0.73935766],\n",
              "       [0.72754339]])"
            ]
          },
          "metadata": {},
          "execution_count": 14
        }
      ]
    },
    {
      "cell_type": "code",
      "execution_count": null,
      "metadata": {
        "id": "pnQoNnpUdkoW"
      },
      "outputs": [],
      "source": [
        "# Creating a data structure with 60 timesteps and 1 output\n",
        "X_train = []\n",
        "y_train = []\n",
        "for i in range(60, 2000):\n",
        "    X_train.append(training_set_scaled[i-60:i, 0])\n",
        "    y_train.append(training_set_scaled[i, 0])\n",
        "X_train, y_train = np.array(X_train), np.array(y_train)\n",
        "\n",
        "# Reshaping\n",
        "X_train = np.reshape(X_train, (X_train.shape[0], X_train.shape[1], 1))"
      ]
    },
    {
      "cell_type": "code",
      "execution_count": null,
      "metadata": {
        "colab": {
          "base_uri": "https://localhost:8080/"
        },
        "id": "1RDKe5EhUcVI",
        "outputId": "4d9e53c4-a67d-4d32-e17c-415c0a79c3c6"
      },
      "outputs": [
        {
          "output_type": "execute_result",
          "data": {
            "text/plain": [
              "array([[[0.15827315],\n",
              "        [0.17198784],\n",
              "        [0.16413278],\n",
              "        ...,\n",
              "        [0.17037248],\n",
              "        [0.16802863],\n",
              "        [0.14687064]],\n",
              "\n",
              "       [[0.17198784],\n",
              "        [0.16413278],\n",
              "        [0.14994299],\n",
              "        ...,\n",
              "        [0.16802863],\n",
              "        [0.14687064],\n",
              "        [0.14018751]],\n",
              "\n",
              "       [[0.16413278],\n",
              "        [0.14994299],\n",
              "        [0.14487521],\n",
              "        ...,\n",
              "        [0.14687064],\n",
              "        [0.14018751],\n",
              "        [0.12827822]],\n",
              "\n",
              "       ...,\n",
              "\n",
              "       [[0.70176105],\n",
              "        [0.70353478],\n",
              "        [0.70556189],\n",
              "        ...,\n",
              "        [0.70952109],\n",
              "        [0.71968833],\n",
              "        [0.70961612]],\n",
              "\n",
              "       [[0.70353478],\n",
              "        [0.70556189],\n",
              "        [0.69343089],\n",
              "        ...,\n",
              "        [0.71968833],\n",
              "        [0.70961612],\n",
              "        [0.68335867]],\n",
              "\n",
              "       [[0.70556189],\n",
              "        [0.69343089],\n",
              "        [0.7054352 ],\n",
              "        ...,\n",
              "        [0.70961612],\n",
              "        [0.68335867],\n",
              "        [0.68034968]]])"
            ]
          },
          "metadata": {},
          "execution_count": 16
        }
      ],
      "source": [
        "X_train"
      ]
    },
    {
      "cell_type": "code",
      "execution_count": null,
      "metadata": {
        "colab": {
          "base_uri": "https://localhost:8080/"
        },
        "id": "q8XZnYRzUlzO",
        "outputId": "21a2fad5-2d9e-4b3c-84a3-836868ce76ba"
      },
      "outputs": [
        {
          "output_type": "execute_result",
          "data": {
            "text/plain": [
              "array([0.14018751, 0.12827822, 0.12593437, ..., 0.68335867, 0.68034968,\n",
              "       0.68896491])"
            ]
          },
          "metadata": {},
          "execution_count": 17
        }
      ],
      "source": [
        "y_train"
      ]
    },
    {
      "cell_type": "code",
      "execution_count": null,
      "metadata": {
        "id": "pDeXhBeDdp4W"
      },
      "outputs": [],
      "source": [
        "# Part 2 - Building the RNN\n",
        "\n",
        "# Importing the Keras libraries and packages\n",
        "from keras.models import Sequential\n",
        "from keras.layers import Dense\n",
        "from keras.layers import LSTM\n",
        "from keras.layers import Dropout"
      ]
    },
    {
      "cell_type": "code",
      "execution_count": null,
      "metadata": {
        "id": "dhxLoUGZdue4"
      },
      "outputs": [],
      "source": [
        "# Initialising the RNN\n",
        "regressor = Sequential()"
      ]
    },
    {
      "cell_type": "code",
      "execution_count": null,
      "metadata": {
        "id": "-otTkJWfdya-"
      },
      "outputs": [],
      "source": [
        "# Adding the first LSTM layer and some Dropout regularisation\n",
        "regressor.add(LSTM(units = 50, return_sequences = True, input_shape = (X_train.shape[1], 1)))\n",
        "regressor.add(Dropout(0.2))\n",
        "\n",
        "# Adding a second LSTM layer and some Dropout regularisation\n",
        "regressor.add(LSTM(units = 50, return_sequences = True))\n",
        "regressor.add(Dropout(0.2))\n",
        "\n",
        "# Adding a third LSTM layer and some Dropout regularisation\n",
        "regressor.add(LSTM(units = 50, return_sequences = True))\n",
        "regressor.add(Dropout(0.2))\n",
        "\n",
        "# Adding a fourth LSTM layer and some Dropout regularisation\n",
        "regressor.add(LSTM(units = 50))\n",
        "regressor.add(Dropout(0.2))\n",
        "\n",
        "# Adding the output layer\n",
        "regressor.add(Dense(units = 1))"
      ]
    },
    {
      "cell_type": "code",
      "execution_count": null,
      "metadata": {
        "colab": {
          "base_uri": "https://localhost:8080/"
        },
        "id": "0N3ArfKUd2p-",
        "outputId": "cce0f6f8-1929-4be8-e250-882500842f31"
      },
      "outputs": [
        {
          "output_type": "stream",
          "name": "stdout",
          "text": [
            "Epoch 1/100\n",
            "61/61 [==============================] - 14s 113ms/step - loss: 0.0110\n",
            "Epoch 2/100\n",
            "61/61 [==============================] - 7s 113ms/step - loss: 0.0028\n",
            "Epoch 3/100\n",
            "61/61 [==============================] - 7s 112ms/step - loss: 0.0030\n",
            "Epoch 4/100\n",
            "61/61 [==============================] - 7s 113ms/step - loss: 0.0026\n",
            "Epoch 5/100\n",
            "61/61 [==============================] - 7s 113ms/step - loss: 0.0023\n",
            "Epoch 6/100\n",
            "61/61 [==============================] - 7s 112ms/step - loss: 0.0022\n",
            "Epoch 7/100\n",
            "61/61 [==============================] - 7s 114ms/step - loss: 0.0024\n",
            "Epoch 8/100\n",
            "61/61 [==============================] - 7s 123ms/step - loss: 0.0020\n",
            "Epoch 9/100\n",
            "61/61 [==============================] - 7s 113ms/step - loss: 0.0020\n",
            "Epoch 10/100\n",
            "61/61 [==============================] - 7s 114ms/step - loss: 0.0021\n",
            "Epoch 11/100\n",
            "61/61 [==============================] - 7s 113ms/step - loss: 0.0019\n",
            "Epoch 12/100\n",
            "61/61 [==============================] - 7s 113ms/step - loss: 0.0015\n",
            "Epoch 13/100\n",
            "61/61 [==============================] - 7s 113ms/step - loss: 0.0015\n",
            "Epoch 14/100\n",
            "61/61 [==============================] - 7s 113ms/step - loss: 0.0017\n",
            "Epoch 15/100\n",
            "61/61 [==============================] - 7s 112ms/step - loss: 0.0017\n",
            "Epoch 16/100\n",
            "61/61 [==============================] - 7s 113ms/step - loss: 0.0015\n",
            "Epoch 17/100\n",
            "61/61 [==============================] - 8s 130ms/step - loss: 0.0016\n",
            "Epoch 18/100\n",
            "61/61 [==============================] - 7s 112ms/step - loss: 0.0016\n",
            "Epoch 19/100\n",
            "61/61 [==============================] - 7s 113ms/step - loss: 0.0015\n",
            "Epoch 20/100\n",
            "61/61 [==============================] - 7s 113ms/step - loss: 0.0015\n",
            "Epoch 21/100\n",
            "61/61 [==============================] - 7s 114ms/step - loss: 0.0014\n",
            "Epoch 22/100\n",
            "61/61 [==============================] - 7s 114ms/step - loss: 0.0014\n",
            "Epoch 23/100\n",
            "61/61 [==============================] - 7s 113ms/step - loss: 0.0015\n",
            "Epoch 24/100\n",
            "61/61 [==============================] - 7s 114ms/step - loss: 0.0013\n",
            "Epoch 25/100\n",
            "61/61 [==============================] - 7s 113ms/step - loss: 0.0014\n",
            "Epoch 26/100\n",
            "61/61 [==============================] - 7s 113ms/step - loss: 0.0013\n",
            "Epoch 27/100\n",
            "61/61 [==============================] - 7s 113ms/step - loss: 0.0011\n",
            "Epoch 28/100\n",
            "61/61 [==============================] - 7s 113ms/step - loss: 0.0017\n",
            "Epoch 29/100\n",
            "61/61 [==============================] - 7s 113ms/step - loss: 0.0013\n",
            "Epoch 30/100\n",
            "61/61 [==============================] - 7s 113ms/step - loss: 0.0011\n",
            "Epoch 31/100\n",
            "61/61 [==============================] - 7s 113ms/step - loss: 0.0011\n",
            "Epoch 32/100\n",
            "61/61 [==============================] - 7s 112ms/step - loss: 0.0012\n",
            "Epoch 33/100\n",
            "61/61 [==============================] - 7s 113ms/step - loss: 0.0012\n",
            "Epoch 34/100\n",
            "61/61 [==============================] - 7s 112ms/step - loss: 0.0011\n",
            "Epoch 35/100\n",
            "61/61 [==============================] - 7s 112ms/step - loss: 0.0012\n",
            "Epoch 36/100\n",
            "61/61 [==============================] - 7s 112ms/step - loss: 0.0011\n",
            "Epoch 37/100\n",
            "61/61 [==============================] - 7s 113ms/step - loss: 0.0011\n",
            "Epoch 38/100\n",
            "61/61 [==============================] - 7s 113ms/step - loss: 0.0010\n",
            "Epoch 39/100\n",
            "61/61 [==============================] - 7s 113ms/step - loss: 0.0012\n",
            "Epoch 40/100\n",
            "61/61 [==============================] - 7s 113ms/step - loss: 0.0011\n",
            "Epoch 41/100\n",
            "61/61 [==============================] - 7s 113ms/step - loss: 9.9940e-04\n",
            "Epoch 42/100\n",
            "61/61 [==============================] - 7s 112ms/step - loss: 0.0011\n",
            "Epoch 43/100\n",
            "61/61 [==============================] - 7s 112ms/step - loss: 0.0011\n",
            "Epoch 44/100\n",
            "61/61 [==============================] - 7s 112ms/step - loss: 9.5624e-04\n",
            "Epoch 45/100\n",
            "61/61 [==============================] - 7s 112ms/step - loss: 0.0011\n",
            "Epoch 46/100\n",
            "61/61 [==============================] - 7s 113ms/step - loss: 9.9229e-04\n",
            "Epoch 47/100\n",
            "61/61 [==============================] - 7s 113ms/step - loss: 8.8313e-04\n",
            "Epoch 48/100\n",
            "61/61 [==============================] - 7s 113ms/step - loss: 0.0010\n",
            "Epoch 49/100\n",
            "61/61 [==============================] - 7s 113ms/step - loss: 9.4772e-04\n",
            "Epoch 50/100\n",
            "61/61 [==============================] - 7s 113ms/step - loss: 0.0010\n",
            "Epoch 51/100\n",
            "61/61 [==============================] - 7s 113ms/step - loss: 9.9682e-04\n",
            "Epoch 52/100\n",
            "61/61 [==============================] - 7s 113ms/step - loss: 9.3116e-04\n",
            "Epoch 53/100\n",
            "61/61 [==============================] - 7s 113ms/step - loss: 9.9770e-04\n",
            "Epoch 54/100\n",
            "61/61 [==============================] - 7s 113ms/step - loss: 9.0779e-04\n",
            "Epoch 55/100\n",
            "61/61 [==============================] - 7s 113ms/step - loss: 9.6866e-04\n",
            "Epoch 56/100\n",
            "61/61 [==============================] - 7s 113ms/step - loss: 9.3035e-04\n",
            "Epoch 57/100\n",
            "61/61 [==============================] - 7s 113ms/step - loss: 8.7277e-04\n",
            "Epoch 58/100\n",
            "61/61 [==============================] - 7s 113ms/step - loss: 9.2277e-04\n",
            "Epoch 59/100\n",
            "61/61 [==============================] - 7s 114ms/step - loss: 8.0195e-04\n",
            "Epoch 60/100\n",
            "61/61 [==============================] - 7s 114ms/step - loss: 9.1274e-04\n",
            "Epoch 61/100\n",
            "61/61 [==============================] - 7s 113ms/step - loss: 9.0010e-04\n",
            "Epoch 62/100\n",
            "61/61 [==============================] - 7s 114ms/step - loss: 9.7144e-04\n",
            "Epoch 63/100\n",
            "61/61 [==============================] - 7s 114ms/step - loss: 8.7236e-04\n",
            "Epoch 64/100\n",
            "61/61 [==============================] - 7s 114ms/step - loss: 9.1597e-04\n",
            "Epoch 65/100\n",
            "61/61 [==============================] - 7s 113ms/step - loss: 8.5368e-04\n",
            "Epoch 66/100\n",
            "61/61 [==============================] - 7s 113ms/step - loss: 8.2069e-04\n",
            "Epoch 67/100\n",
            "61/61 [==============================] - 7s 113ms/step - loss: 8.8540e-04\n",
            "Epoch 68/100\n",
            "61/61 [==============================] - 7s 113ms/step - loss: 9.3533e-04\n",
            "Epoch 69/100\n",
            "61/61 [==============================] - 7s 114ms/step - loss: 0.0011\n",
            "Epoch 70/100\n",
            "61/61 [==============================] - 7s 113ms/step - loss: 8.1442e-04\n",
            "Epoch 71/100\n",
            "61/61 [==============================] - 7s 114ms/step - loss: 8.7674e-04\n",
            "Epoch 72/100\n",
            "61/61 [==============================] - 7s 113ms/step - loss: 8.8429e-04\n",
            "Epoch 73/100\n",
            "61/61 [==============================] - 7s 113ms/step - loss: 8.2156e-04\n",
            "Epoch 74/100\n",
            "61/61 [==============================] - 7s 114ms/step - loss: 8.4170e-04\n",
            "Epoch 75/100\n",
            "61/61 [==============================] - 7s 114ms/step - loss: 9.3519e-04\n",
            "Epoch 76/100\n",
            "61/61 [==============================] - 7s 114ms/step - loss: 7.8645e-04\n",
            "Epoch 77/100\n",
            "61/61 [==============================] - 7s 113ms/step - loss: 8.9796e-04\n",
            "Epoch 78/100\n",
            "61/61 [==============================] - 7s 114ms/step - loss: 8.1869e-04\n",
            "Epoch 79/100\n",
            "61/61 [==============================] - 7s 114ms/step - loss: 7.9103e-04\n",
            "Epoch 80/100\n",
            "61/61 [==============================] - 7s 114ms/step - loss: 7.8480e-04\n",
            "Epoch 81/100\n",
            "61/61 [==============================] - 7s 114ms/step - loss: 8.2486e-04\n",
            "Epoch 82/100\n",
            "61/61 [==============================] - 7s 115ms/step - loss: 7.5459e-04\n",
            "Epoch 83/100\n",
            "61/61 [==============================] - 7s 114ms/step - loss: 7.3575e-04\n",
            "Epoch 84/100\n",
            "61/61 [==============================] - 7s 115ms/step - loss: 7.7175e-04\n",
            "Epoch 85/100\n",
            "61/61 [==============================] - 7s 114ms/step - loss: 9.3194e-04\n",
            "Epoch 86/100\n",
            "61/61 [==============================] - 7s 114ms/step - loss: 7.9724e-04\n",
            "Epoch 87/100\n",
            "61/61 [==============================] - 7s 114ms/step - loss: 7.3079e-04\n",
            "Epoch 88/100\n",
            "61/61 [==============================] - 7s 114ms/step - loss: 7.5117e-04\n",
            "Epoch 89/100\n",
            "61/61 [==============================] - 7s 113ms/step - loss: 7.4966e-04\n",
            "Epoch 90/100\n",
            "61/61 [==============================] - 7s 114ms/step - loss: 8.2998e-04\n",
            "Epoch 91/100\n",
            "61/61 [==============================] - 7s 115ms/step - loss: 7.8205e-04\n",
            "Epoch 92/100\n",
            "61/61 [==============================] - 7s 116ms/step - loss: 9.1530e-04\n",
            "Epoch 93/100\n",
            "61/61 [==============================] - 7s 117ms/step - loss: 6.9027e-04\n",
            "Epoch 94/100\n",
            "61/61 [==============================] - 7s 117ms/step - loss: 7.7171e-04\n",
            "Epoch 95/100\n",
            "61/61 [==============================] - 7s 116ms/step - loss: 7.1371e-04\n",
            "Epoch 96/100\n",
            "61/61 [==============================] - 7s 116ms/step - loss: 7.8558e-04\n",
            "Epoch 97/100\n",
            "61/61 [==============================] - 7s 117ms/step - loss: 7.3344e-04\n",
            "Epoch 98/100\n",
            "61/61 [==============================] - 7s 116ms/step - loss: 7.0125e-04\n",
            "Epoch 99/100\n",
            "61/61 [==============================] - 7s 117ms/step - loss: 7.6683e-04\n",
            "Epoch 100/100\n",
            "61/61 [==============================] - 7s 117ms/step - loss: 7.2406e-04\n"
          ]
        },
        {
          "output_type": "execute_result",
          "data": {
            "text/plain": [
              "<keras.callbacks.History at 0x7f3c042e44d0>"
            ]
          },
          "metadata": {},
          "execution_count": 21
        }
      ],
      "source": [
        "# Compiling the RNN\n",
        "regressor.compile(optimizer = 'adam', loss = 'mean_squared_error')\n",
        "\n",
        "# Fitting the RNN to the Training set\n",
        "regressor.fit(X_train, y_train, epochs = 100, batch_size = 32)"
      ]
    },
    {
      "cell_type": "code",
      "execution_count": null,
      "metadata": {
        "id": "F7xRVYRlf7XY"
      },
      "outputs": [],
      "source": [
        "# Part 3 - Making the predictions and visualising the results\n",
        "\n",
        "# Getting the real stock price of 2022\n",
        "dataset_test = pd.read_csv('Gold Price.csv',index_col=\"Date\",parse_dates=True)"
      ]
    },
    {
      "cell_type": "code",
      "execution_count": null,
      "metadata": {
        "id": "Il16O3gLgWf4"
      },
      "outputs": [],
      "source": [
        "real_gold_price = dataset_test.iloc[:, 1:2].values"
      ]
    },
    {
      "cell_type": "code",
      "execution_count": null,
      "metadata": {
        "colab": {
          "base_uri": "https://localhost:8080/",
          "height": 238
        },
        "id": "X67Pqg9fgYN4",
        "outputId": "5caba82f-f0bc-4946-bf52-0671ca31c124"
      },
      "outputs": [
        {
          "output_type": "execute_result",
          "data": {
            "text/plain": [
              "            Price   Open   High    Low  Volume  Chg%\n",
              "Date                                                \n",
              "2014-01-01  29542  29435  29598  29340    2930  0.25\n",
              "2014-01-02  29975  29678  30050  29678    3140  1.47\n",
              "2014-01-03  29727  30031  30125  29539    3050 -0.83\n",
              "2014-01-04  29279  29279  29279  29279       0 -1.51\n",
              "2014-01-06  29119  29300  29395  29051   24380 -0.55"
            ],
            "text/html": [
              "\n",
              "  <div id=\"df-c00df660-8abc-4258-a4c6-26f98180ef19\">\n",
              "    <div class=\"colab-df-container\">\n",
              "      <div>\n",
              "<style scoped>\n",
              "    .dataframe tbody tr th:only-of-type {\n",
              "        vertical-align: middle;\n",
              "    }\n",
              "\n",
              "    .dataframe tbody tr th {\n",
              "        vertical-align: top;\n",
              "    }\n",
              "\n",
              "    .dataframe thead th {\n",
              "        text-align: right;\n",
              "    }\n",
              "</style>\n",
              "<table border=\"1\" class=\"dataframe\">\n",
              "  <thead>\n",
              "    <tr style=\"text-align: right;\">\n",
              "      <th></th>\n",
              "      <th>Price</th>\n",
              "      <th>Open</th>\n",
              "      <th>High</th>\n",
              "      <th>Low</th>\n",
              "      <th>Volume</th>\n",
              "      <th>Chg%</th>\n",
              "    </tr>\n",
              "    <tr>\n",
              "      <th>Date</th>\n",
              "      <th></th>\n",
              "      <th></th>\n",
              "      <th></th>\n",
              "      <th></th>\n",
              "      <th></th>\n",
              "      <th></th>\n",
              "    </tr>\n",
              "  </thead>\n",
              "  <tbody>\n",
              "    <tr>\n",
              "      <th>2014-01-01</th>\n",
              "      <td>29542</td>\n",
              "      <td>29435</td>\n",
              "      <td>29598</td>\n",
              "      <td>29340</td>\n",
              "      <td>2930</td>\n",
              "      <td>0.25</td>\n",
              "    </tr>\n",
              "    <tr>\n",
              "      <th>2014-01-02</th>\n",
              "      <td>29975</td>\n",
              "      <td>29678</td>\n",
              "      <td>30050</td>\n",
              "      <td>29678</td>\n",
              "      <td>3140</td>\n",
              "      <td>1.47</td>\n",
              "    </tr>\n",
              "    <tr>\n",
              "      <th>2014-01-03</th>\n",
              "      <td>29727</td>\n",
              "      <td>30031</td>\n",
              "      <td>30125</td>\n",
              "      <td>29539</td>\n",
              "      <td>3050</td>\n",
              "      <td>-0.83</td>\n",
              "    </tr>\n",
              "    <tr>\n",
              "      <th>2014-01-04</th>\n",
              "      <td>29279</td>\n",
              "      <td>29279</td>\n",
              "      <td>29279</td>\n",
              "      <td>29279</td>\n",
              "      <td>0</td>\n",
              "      <td>-1.51</td>\n",
              "    </tr>\n",
              "    <tr>\n",
              "      <th>2014-01-06</th>\n",
              "      <td>29119</td>\n",
              "      <td>29300</td>\n",
              "      <td>29395</td>\n",
              "      <td>29051</td>\n",
              "      <td>24380</td>\n",
              "      <td>-0.55</td>\n",
              "    </tr>\n",
              "  </tbody>\n",
              "</table>\n",
              "</div>\n",
              "      <button class=\"colab-df-convert\" onclick=\"convertToInteractive('df-c00df660-8abc-4258-a4c6-26f98180ef19')\"\n",
              "              title=\"Convert this dataframe to an interactive table.\"\n",
              "              style=\"display:none;\">\n",
              "        \n",
              "  <svg xmlns=\"http://www.w3.org/2000/svg\" height=\"24px\"viewBox=\"0 0 24 24\"\n",
              "       width=\"24px\">\n",
              "    <path d=\"M0 0h24v24H0V0z\" fill=\"none\"/>\n",
              "    <path d=\"M18.56 5.44l.94 2.06.94-2.06 2.06-.94-2.06-.94-.94-2.06-.94 2.06-2.06.94zm-11 1L8.5 8.5l.94-2.06 2.06-.94-2.06-.94L8.5 2.5l-.94 2.06-2.06.94zm10 10l.94 2.06.94-2.06 2.06-.94-2.06-.94-.94-2.06-.94 2.06-2.06.94z\"/><path d=\"M17.41 7.96l-1.37-1.37c-.4-.4-.92-.59-1.43-.59-.52 0-1.04.2-1.43.59L10.3 9.45l-7.72 7.72c-.78.78-.78 2.05 0 2.83L4 21.41c.39.39.9.59 1.41.59.51 0 1.02-.2 1.41-.59l7.78-7.78 2.81-2.81c.8-.78.8-2.07 0-2.86zM5.41 20L4 18.59l7.72-7.72 1.47 1.35L5.41 20z\"/>\n",
              "  </svg>\n",
              "      </button>\n",
              "      \n",
              "  <style>\n",
              "    .colab-df-container {\n",
              "      display:flex;\n",
              "      flex-wrap:wrap;\n",
              "      gap: 12px;\n",
              "    }\n",
              "\n",
              "    .colab-df-convert {\n",
              "      background-color: #E8F0FE;\n",
              "      border: none;\n",
              "      border-radius: 50%;\n",
              "      cursor: pointer;\n",
              "      display: none;\n",
              "      fill: #1967D2;\n",
              "      height: 32px;\n",
              "      padding: 0 0 0 0;\n",
              "      width: 32px;\n",
              "    }\n",
              "\n",
              "    .colab-df-convert:hover {\n",
              "      background-color: #E2EBFA;\n",
              "      box-shadow: 0px 1px 2px rgba(60, 64, 67, 0.3), 0px 1px 3px 1px rgba(60, 64, 67, 0.15);\n",
              "      fill: #174EA6;\n",
              "    }\n",
              "\n",
              "    [theme=dark] .colab-df-convert {\n",
              "      background-color: #3B4455;\n",
              "      fill: #D2E3FC;\n",
              "    }\n",
              "\n",
              "    [theme=dark] .colab-df-convert:hover {\n",
              "      background-color: #434B5C;\n",
              "      box-shadow: 0px 1px 3px 1px rgba(0, 0, 0, 0.15);\n",
              "      filter: drop-shadow(0px 1px 2px rgba(0, 0, 0, 0.3));\n",
              "      fill: #FFFFFF;\n",
              "    }\n",
              "  </style>\n",
              "\n",
              "      <script>\n",
              "        const buttonEl =\n",
              "          document.querySelector('#df-c00df660-8abc-4258-a4c6-26f98180ef19 button.colab-df-convert');\n",
              "        buttonEl.style.display =\n",
              "          google.colab.kernel.accessAllowed ? 'block' : 'none';\n",
              "\n",
              "        async function convertToInteractive(key) {\n",
              "          const element = document.querySelector('#df-c00df660-8abc-4258-a4c6-26f98180ef19');\n",
              "          const dataTable =\n",
              "            await google.colab.kernel.invokeFunction('convertToInteractive',\n",
              "                                                     [key], {});\n",
              "          if (!dataTable) return;\n",
              "\n",
              "          const docLinkHtml = 'Like what you see? Visit the ' +\n",
              "            '<a target=\"_blank\" href=https://colab.research.google.com/notebooks/data_table.ipynb>data table notebook</a>'\n",
              "            + ' to learn more about interactive tables.';\n",
              "          element.innerHTML = '';\n",
              "          dataTable['output_type'] = 'display_data';\n",
              "          await google.colab.output.renderOutput(dataTable, element);\n",
              "          const docLink = document.createElement('div');\n",
              "          docLink.innerHTML = docLinkHtml;\n",
              "          element.appendChild(docLink);\n",
              "        }\n",
              "      </script>\n",
              "    </div>\n",
              "  </div>\n",
              "  "
            ]
          },
          "metadata": {},
          "execution_count": 24
        }
      ],
      "source": [
        "dataset_test.head()"
      ]
    },
    {
      "cell_type": "code",
      "execution_count": null,
      "metadata": {
        "colab": {
          "base_uri": "https://localhost:8080/"
        },
        "id": "mQ8_rJRcgeZ3",
        "outputId": "ebbe2104-3d34-4cc3-bb9a-c25d4740328b"
      },
      "outputs": [
        {
          "output_type": "stream",
          "name": "stdout",
          "text": [
            "<class 'pandas.core.frame.DataFrame'>\n",
            "DatetimeIndex: 2072 entries, 2014-01-01 to 2021-12-29\n",
            "Data columns (total 6 columns):\n",
            " #   Column  Non-Null Count  Dtype  \n",
            "---  ------  --------------  -----  \n",
            " 0   Price   2072 non-null   int64  \n",
            " 1   Open    2072 non-null   int64  \n",
            " 2   High    2072 non-null   int64  \n",
            " 3   Low     2072 non-null   int64  \n",
            " 4   Volume  2072 non-null   int64  \n",
            " 5   Chg%    2072 non-null   float64\n",
            "dtypes: float64(1), int64(5)\n",
            "memory usage: 113.3 KB\n"
          ]
        }
      ],
      "source": [
        "dataset_test.info()"
      ]
    },
    {
      "cell_type": "code",
      "execution_count": null,
      "metadata": {
        "id": "MU-5fnaRgvKg"
      },
      "outputs": [],
      "source": [
        "test_set=dataset_test['Open']\n",
        "test_set=pd.DataFrame(test_set)"
      ]
    },
    {
      "cell_type": "code",
      "execution_count": null,
      "metadata": {
        "colab": {
          "base_uri": "https://localhost:8080/"
        },
        "id": "KWV7hkCHgyv_",
        "outputId": "12a3ea64-32ca-48ea-dfcc-4b6ecad79b91"
      },
      "outputs": [
        {
          "output_type": "stream",
          "name": "stdout",
          "text": [
            "<class 'pandas.core.frame.DataFrame'>\n",
            "DatetimeIndex: 2072 entries, 2014-01-01 to 2021-12-29\n",
            "Data columns (total 1 columns):\n",
            " #   Column  Non-Null Count  Dtype\n",
            "---  ------  --------------  -----\n",
            " 0   Open    2072 non-null   int64\n",
            "dtypes: int64(1)\n",
            "memory usage: 32.4 KB\n"
          ]
        }
      ],
      "source": [
        "test_set.info()"
      ]
    },
    {
      "cell_type": "code",
      "execution_count": null,
      "metadata": {
        "id": "PsYCQo_jg5tn"
      },
      "outputs": [],
      "source": [
        "# Getting the predicted stock price of 2022\n",
        "dataset_total = pd.concat((dataset['Open'], dataset_test['Open']), axis = 0)\n",
        "inputs = dataset_total[len(dataset_total) - len(dataset_test) - 60:].values\n",
        "inputs = inputs.reshape(-1,1)\n",
        "inputs = sc.transform(inputs)\n",
        "X_test = []\n",
        "for i in range(60, 2072):\n",
        "    X_test.append(inputs[i-60:i, 0])\n",
        "X_test = np.array(X_test)\n",
        "X_test = np.reshape(X_test, (X_test.shape[0], X_test.shape[1], 1))\n",
        "predicted_gold_price = regressor.predict(X_test)\n",
        "predicted_gold_price = sc.inverse_transform(predicted_gold_price)"
      ]
    },
    {
      "cell_type": "code",
      "source": [
        "predicted_gold_price"
      ],
      "metadata": {
        "colab": {
          "base_uri": "https://localhost:8080/"
        },
        "id": "fWJsX6nE5_P7",
        "outputId": "a195fe60-d510-4ca1-eb51-ff2000106c41"
      },
      "execution_count": null,
      "outputs": [
        {
          "output_type": "execute_result",
          "data": {
            "text/plain": [
              "array([[48621.465],\n",
              "       [44794.293],\n",
              "       [39812.715],\n",
              "       ...,\n",
              "       [46787.32 ],\n",
              "       [46946.55 ],\n",
              "       [47125.69 ]], dtype=float32)"
            ]
          },
          "metadata": {},
          "execution_count": 30
        }
      ]
    },
    {
      "cell_type": "code",
      "execution_count": null,
      "metadata": {
        "colab": {
          "base_uri": "https://localhost:8080/"
        },
        "id": "pf0AX5wLhGun",
        "outputId": "b3b840de-72d9-4c7e-fe4b-6e355c706dd4"
      },
      "outputs": [
        {
          "output_type": "stream",
          "name": "stdout",
          "text": [
            "<class 'pandas.core.frame.DataFrame'>\n",
            "RangeIndex: 2012 entries, 0 to 2011\n",
            "Data columns (total 1 columns):\n",
            " #   Column  Non-Null Count  Dtype  \n",
            "---  ------  --------------  -----  \n",
            " 0   0       2012 non-null   float32\n",
            "dtypes: float32(1)\n",
            "memory usage: 8.0 KB\n"
          ]
        }
      ],
      "source": [
        "predicted_gold_price=pd.DataFrame(predicted_gold_price)\n",
        "predicted_gold_price.info()"
      ]
    },
    {
      "cell_type": "code",
      "execution_count": null,
      "metadata": {
        "colab": {
          "base_uri": "https://localhost:8080/",
          "height": 281
        },
        "id": "_HAjHd4BhKJ6",
        "outputId": "6ab9aa38-eeff-474e-98e2-7b459ba94b8d"
      },
      "outputs": [
        {
          "output_type": "display_data",
          "data": {
            "text/plain": [
              "<Figure size 432x288 with 1 Axes>"
            ],
            "image/png": "[encoded data removed]"
          },
          "metadata": {
            "needs_background": "light"
          }
        }
      ],
      "source": [
        "# Visualising the results\n",
        "plt.plot(real_gold_price, color = 'red', label = 'Real Gold Price')\n",
        "plt.plot(predicted_gold_price, color = 'blue', label = 'Predicted Gold Price')\n",
        "plt.title('Gold Price Prediction')\n",
        "plt.ylabel('Gold Price')\n",
        "plt.legend()\n",
        "plt.show()"
      ]
    }
  ],
  "metadata": {
    "colab": {
      "name": "Gold_Time_series.ipynb",
      "provenance": [],
      "collapsed_sections": []
    },
    "kernelspec": {
      "display_name": "Python 3",
      "name": "python3"
    },
    "language_info": {
      "name": "python"
    }
  },
  "nbformat": 4,
  "nbformat_minor": 0
}